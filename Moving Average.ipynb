{
 "cells": [
  {
   "cell_type": "code",
   "execution_count": 136,
   "id": "3f3944ca",
   "metadata": {},
   "outputs": [],
   "source": [
    "import pandas as pd\n",
    "import numpy as np\n",
    "import yfinance as yf"
   ]
  },
  {
   "cell_type": "code",
   "execution_count": 137,
   "id": "f42338be",
   "metadata": {},
   "outputs": [],
   "source": [
    "import matplotlib.pyplot as plt"
   ]
  },
  {
   "cell_type": "code",
   "execution_count": 138,
   "id": "8423340f",
   "metadata": {},
   "outputs": [
    {
     "name": "stdout",
     "output_type": "stream",
     "text": [
      "[*********************100%***********************]  1 of 1 completed\n"
     ]
    }
   ],
   "source": [
    "#df = pd.read_csv('NSE_TataGlobal.csv')\n",
    "data = yf.download('TTM').reset_index()"
   ]
  },
  {
   "cell_type": "code",
   "execution_count": 139,
   "id": "dec25f7e",
   "metadata": {},
   "outputs": [
    {
     "data": {
      "text/html": [
       "<div>\n",
       "<style scoped>\n",
       "    .dataframe tbody tr th:only-of-type {\n",
       "        vertical-align: middle;\n",
       "    }\n",
       "\n",
       "    .dataframe tbody tr th {\n",
       "        vertical-align: top;\n",
       "    }\n",
       "\n",
       "    .dataframe thead th {\n",
       "        text-align: right;\n",
       "    }\n",
       "</style>\n",
       "<table border=\"1\" class=\"dataframe\">\n",
       "  <thead>\n",
       "    <tr style=\"text-align: right;\">\n",
       "      <th></th>\n",
       "      <th>Date</th>\n",
       "      <th>Open</th>\n",
       "      <th>High</th>\n",
       "      <th>Low</th>\n",
       "      <th>Close</th>\n",
       "      <th>Adj Close</th>\n",
       "      <th>Volume</th>\n",
       "    </tr>\n",
       "  </thead>\n",
       "  <tbody>\n",
       "    <tr>\n",
       "      <th>0</th>\n",
       "      <td>2004-09-27</td>\n",
       "      <td>9.150000</td>\n",
       "      <td>9.280000</td>\n",
       "      <td>9.050000</td>\n",
       "      <td>9.150000</td>\n",
       "      <td>7.971041</td>\n",
       "      <td>379700</td>\n",
       "    </tr>\n",
       "    <tr>\n",
       "      <th>1</th>\n",
       "      <td>2004-09-28</td>\n",
       "      <td>8.850000</td>\n",
       "      <td>8.850000</td>\n",
       "      <td>8.650000</td>\n",
       "      <td>8.760000</td>\n",
       "      <td>7.631292</td>\n",
       "      <td>332700</td>\n",
       "    </tr>\n",
       "    <tr>\n",
       "      <th>2</th>\n",
       "      <td>2004-09-29</td>\n",
       "      <td>8.760000</td>\n",
       "      <td>8.780000</td>\n",
       "      <td>8.660000</td>\n",
       "      <td>8.750000</td>\n",
       "      <td>7.622581</td>\n",
       "      <td>119800</td>\n",
       "    </tr>\n",
       "    <tr>\n",
       "      <th>3</th>\n",
       "      <td>2004-09-30</td>\n",
       "      <td>8.890000</td>\n",
       "      <td>8.970000</td>\n",
       "      <td>8.890000</td>\n",
       "      <td>8.970000</td>\n",
       "      <td>7.814236</td>\n",
       "      <td>166400</td>\n",
       "    </tr>\n",
       "    <tr>\n",
       "      <th>4</th>\n",
       "      <td>2004-10-01</td>\n",
       "      <td>9.140000</td>\n",
       "      <td>9.340000</td>\n",
       "      <td>9.120000</td>\n",
       "      <td>9.250000</td>\n",
       "      <td>8.058157</td>\n",
       "      <td>266600</td>\n",
       "    </tr>\n",
       "    <tr>\n",
       "      <th>...</th>\n",
       "      <td>...</td>\n",
       "      <td>...</td>\n",
       "      <td>...</td>\n",
       "      <td>...</td>\n",
       "      <td>...</td>\n",
       "      <td>...</td>\n",
       "      <td>...</td>\n",
       "    </tr>\n",
       "    <tr>\n",
       "      <th>4395</th>\n",
       "      <td>2022-03-11</td>\n",
       "      <td>27.620001</td>\n",
       "      <td>27.639999</td>\n",
       "      <td>26.120001</td>\n",
       "      <td>26.200001</td>\n",
       "      <td>26.200001</td>\n",
       "      <td>2301600</td>\n",
       "    </tr>\n",
       "    <tr>\n",
       "      <th>4396</th>\n",
       "      <td>2022-03-14</td>\n",
       "      <td>26.360001</td>\n",
       "      <td>26.700001</td>\n",
       "      <td>25.469999</td>\n",
       "      <td>25.770000</td>\n",
       "      <td>25.770000</td>\n",
       "      <td>2369000</td>\n",
       "    </tr>\n",
       "    <tr>\n",
       "      <th>4397</th>\n",
       "      <td>2022-03-15</td>\n",
       "      <td>26.469999</td>\n",
       "      <td>27.770000</td>\n",
       "      <td>26.469999</td>\n",
       "      <td>27.600000</td>\n",
       "      <td>27.600000</td>\n",
       "      <td>1279000</td>\n",
       "    </tr>\n",
       "    <tr>\n",
       "      <th>4398</th>\n",
       "      <td>2022-03-16</td>\n",
       "      <td>27.830000</td>\n",
       "      <td>28.459999</td>\n",
       "      <td>27.500000</td>\n",
       "      <td>28.459999</td>\n",
       "      <td>28.459999</td>\n",
       "      <td>996100</td>\n",
       "    </tr>\n",
       "    <tr>\n",
       "      <th>4399</th>\n",
       "      <td>2022-03-17</td>\n",
       "      <td>27.830000</td>\n",
       "      <td>28.160000</td>\n",
       "      <td>28.010000</td>\n",
       "      <td>28.070000</td>\n",
       "      <td>28.070000</td>\n",
       "      <td>68013</td>\n",
       "    </tr>\n",
       "  </tbody>\n",
       "</table>\n",
       "<p>4400 rows × 7 columns</p>\n",
       "</div>"
      ],
      "text/plain": [
       "           Date       Open       High        Low      Close  Adj Close  \\\n",
       "0    2004-09-27   9.150000   9.280000   9.050000   9.150000   7.971041   \n",
       "1    2004-09-28   8.850000   8.850000   8.650000   8.760000   7.631292   \n",
       "2    2004-09-29   8.760000   8.780000   8.660000   8.750000   7.622581   \n",
       "3    2004-09-30   8.890000   8.970000   8.890000   8.970000   7.814236   \n",
       "4    2004-10-01   9.140000   9.340000   9.120000   9.250000   8.058157   \n",
       "...         ...        ...        ...        ...        ...        ...   \n",
       "4395 2022-03-11  27.620001  27.639999  26.120001  26.200001  26.200001   \n",
       "4396 2022-03-14  26.360001  26.700001  25.469999  25.770000  25.770000   \n",
       "4397 2022-03-15  26.469999  27.770000  26.469999  27.600000  27.600000   \n",
       "4398 2022-03-16  27.830000  28.459999  27.500000  28.459999  28.459999   \n",
       "4399 2022-03-17  27.830000  28.160000  28.010000  28.070000  28.070000   \n",
       "\n",
       "       Volume  \n",
       "0      379700  \n",
       "1      332700  \n",
       "2      119800  \n",
       "3      166400  \n",
       "4      266600  \n",
       "...       ...  \n",
       "4395  2301600  \n",
       "4396  2369000  \n",
       "4397  1279000  \n",
       "4398   996100  \n",
       "4399    68013  \n",
       "\n",
       "[4400 rows x 7 columns]"
      ]
     },
     "execution_count": 139,
     "metadata": {},
     "output_type": "execute_result"
    }
   ],
   "source": [
    "data"
   ]
  },
  {
   "cell_type": "code",
   "execution_count": 140,
   "id": "9b770761",
   "metadata": {},
   "outputs": [
    {
     "name": "stdout",
     "output_type": "stream",
     "text": [
      "        Date  Open  High   Low  Close  Adj Close  Volume\n",
      "0 2004-09-27  9.15  9.28  9.05   9.15   7.971041  379700\n",
      "1 2004-09-28  8.85  8.85  8.65   8.76   7.631292  332700\n",
      "2 2004-09-29  8.76  8.78  8.66   8.75   7.622581  119800\n",
      "3 2004-09-30  8.89  8.97  8.89   8.97   7.814236  166400\n",
      "4 2004-10-01  9.14  9.34  9.12   9.25   8.058157  266600\n",
      "\n",
      " Shape of the data:\n",
      "(4400, 7)\n"
     ]
    }
   ],
   "source": [
    "print(data.head())\n",
    "print('\\n Shape of the data:')\n",
    "print(data.shape)\n",
    "\n",
    "# setting the index as date\n",
    "data.index = data['Date']\n",
    "\n",
    "#df['date'] = pd.to_datetime(df.Date, format='%Y-%m-%d')\n",
    "#df.index = df['date']\n",
    "#df\n",
    "\n",
    "#df = df.sort_values(by='Date')\n",
    "#df\n",
    "\n",
    "#df = df.sort_index()\n",
    "#df"
   ]
  },
  {
   "cell_type": "code",
   "execution_count": 141,
   "id": "dffccac2",
   "metadata": {},
   "outputs": [],
   "source": [
    "#For Year\n",
    "#year = df['Date']\n",
    "#year"
   ]
  },
  {
   "cell_type": "code",
   "execution_count": 142,
   "id": "fa901fd3",
   "metadata": {},
   "outputs": [],
   "source": [
    "#df = df.head(5)"
   ]
  },
  {
   "cell_type": "code",
   "execution_count": 143,
   "id": "69f94b0f",
   "metadata": {},
   "outputs": [
    {
     "data": {
      "text/plain": [
       "Date\n",
       "2004-09-27     9.150000\n",
       "2004-09-28     8.760000\n",
       "2004-09-29     8.750000\n",
       "2004-09-30     8.970000\n",
       "2004-10-01     9.250000\n",
       "                ...    \n",
       "2022-03-11    26.200001\n",
       "2022-03-14    25.770000\n",
       "2022-03-15    27.600000\n",
       "2022-03-16    28.459999\n",
       "2022-03-17    28.070000\n",
       "Name: Close, Length: 4400, dtype: float64"
      ]
     },
     "execution_count": 143,
     "metadata": {},
     "output_type": "execute_result"
    }
   ],
   "source": [
    "close_price = data['Close']\n",
    "close_price"
   ]
  },
  {
   "cell_type": "code",
   "execution_count": 144,
   "id": "fbe9fea2",
   "metadata": {},
   "outputs": [
    {
     "data": {
      "text/plain": [
       "51.470001220703125"
      ]
     },
     "execution_count": 144,
     "metadata": {},
     "output_type": "execute_result"
    }
   ],
   "source": [
    "close_price.max()"
   ]
  },
  {
   "cell_type": "code",
   "execution_count": 145,
   "id": "bea14d3d",
   "metadata": {},
   "outputs": [
    {
     "name": "stdout",
     "output_type": "stream",
     "text": [
      "3520\n",
      "4400\n",
      "880\n"
     ]
    }
   ],
   "source": [
    "split = int(len(data) * 0.8)\n",
    "train = data[:split]\n",
    "valid = data[split:]\n",
    "\n",
    "print(split)\n",
    "print(len(data))\n",
    "print(len(valid['Date']))\n",
    "#df_split = df.sample(frac=0.98, random_state=0)\n",
    "#df_split = df_split.sort_values(by='Date')\n",
    "#df_split"
   ]
  },
  {
   "cell_type": "code",
   "execution_count": 146,
   "id": "052161e2",
   "metadata": {},
   "outputs": [
    {
     "name": "stdout",
     "output_type": "stream",
     "text": [
      "[31.27, 31.36, 31.46, 31.55, 31.66, 31.76, 31.88, 31.98, 32.11, 32.24, 32.32, 32.35, 32.36, 32.41, 32.45, 32.47, 32.52, 32.56, 32.57, 32.57, 32.54, 32.5, 32.46, 32.48, 32.46, 32.41, 32.35, 32.29, 32.29, 32.29, 32.27, 32.27, 32.26, 32.29, 32.32, 32.34, 32.38, 32.41, 32.45, 32.47, 32.47, 32.44, 32.41, 32.38, 32.34, 32.32, 32.27, 32.24, 32.23, 32.23, 32.24, 32.24, 32.24, 32.25, 32.26, 32.31, 32.36, 32.4, 32.46, 32.46, 32.42, 32.35, 32.26, 32.08, 31.9, 31.72, 31.53, 31.33, 31.13, 30.92, 30.74, 30.56, 30.37, 30.16, 29.94, 29.73, 29.52, 29.33, 29.1, 28.85, 28.62, 28.35, 28.09, 27.79, 27.49, 27.23, 26.95, 26.69, 26.41, 26.13, 25.85, 25.57, 25.3, 25.03, 24.77, 24.48, 24.23, 23.98, 23.72, 23.46, 23.23, 22.99, 22.72, 22.47, 22.23, 21.95, 21.67, 21.39, 21.11, 20.88, 20.71, 20.58, 20.45, 20.39, 20.32, 20.26, 20.2, 20.16, 20.12, 20.09, 20.04, 20.01, 19.98, 19.96, 19.96, 19.97, 19.96, 19.95, 19.93, 19.98, 20.03, 20.08, 20.13, 20.19, 20.25, 20.3, 20.35, 20.4, 20.46, 20.51, 20.57, 20.66, 20.76, 20.85, 20.96, 21.04, 21.13, 21.22, 21.31, 21.38, 21.41, 21.45, 21.48, 21.52, 21.57, 21.6, 21.63, 21.67, 21.68, 21.71, 21.73, 21.77, 21.82, 21.86, 21.9, 21.94, 21.97, 21.98, 21.98, 21.99, 21.97, 21.95, 21.93, 21.91, 21.91, 21.91, 21.92, 21.9, 21.89, 21.81, 21.74, 21.68, 21.62, 21.57, 21.52, 21.47, 21.42, 21.34, 21.31, 21.28, 21.23, 21.18, 21.12, 21.06, 21.0, 20.94, 20.88, 20.8, 20.73, 20.65, 20.62, 20.59, 20.58, 20.56, 20.54, 20.54, 20.55, 20.56, 20.59, 20.6, 20.62, 20.61, 20.62, 20.65, 20.68, 20.72, 20.75, 20.77, 20.8, 20.83, 20.88, 20.91, 20.94, 20.99, 21.04, 21.07, 21.12, 21.17, 21.22, 21.28, 21.36, 21.4, 21.45, 21.49, 21.53, 21.52, 21.48, 21.48, 21.41, 21.36, 21.33, 21.3, 21.28, 21.24, 21.18, 21.12, 21.05, 20.97, 20.9, 20.82, 20.68, 20.53, 20.37, 20.23, 20.05, 19.87, 19.68, 19.49, 19.29, 19.09, 18.89, 18.68, 18.45, 18.25, 18.03, 17.81, 17.61, 17.41, 17.21, 17.0, 16.81, 16.64, 16.46, 16.28, 16.08, 15.89, 15.69, 15.48, 15.29, 15.07, 14.84, 14.64, 14.42, 14.2, 13.99, 13.82, 13.67, 13.5, 13.34, 13.18, 13.01, 12.82, 12.61, 12.42, 12.25, 12.09, 11.93, 11.78, 11.63, 11.49, 11.4, 11.32, 11.24, 11.15, 11.07, 11.0, 10.92, 10.85, 10.78, 10.72, 10.67, 10.63, 10.6, 10.55, 10.5, 10.44, 10.38, 10.32, 10.26, 10.2, 10.13, 10.06, 9.98, 9.9, 9.82, 9.75, 9.69, 9.65, 9.6, 9.57, 9.54, 9.51, 9.48, 9.44, 9.4, 9.37, 9.37, 9.37, 9.37, 9.36, 9.35, 9.34, 9.35, 9.35, 9.34, 9.32, 9.3, 9.29, 9.27, 9.26, 9.24, 9.22, 9.21, 9.2, 9.18, 9.17, 9.15, 9.13, 9.11, 9.09, 9.05, 9.0, 8.95, 8.9, 8.85, 8.79, 8.75, 8.71, 8.67, 8.63, 8.6, 8.56, 8.52, 8.49, 8.46, 8.42, 8.38, 8.33, 8.27, 8.21, 8.16, 8.09, 8.03, 7.97, 7.91, 7.85, 7.79, 7.72, 7.66, 7.6, 7.54, 7.47, 7.4, 7.33, 7.29, 7.27, 7.24, 7.22, 7.2, 7.19, 7.17, 7.14, 7.1, 7.06, 7.02, 6.97, 6.93, 6.89, 6.85, 6.8, 6.77, 6.74, 6.71, 6.67, 6.64, 6.62, 6.59, 6.57, 6.55, 6.51, 6.48, 6.45, 6.42, 6.39, 6.36, 6.34, 6.31, 6.26, 6.22, 6.17, 6.12, 6.09, 6.05, 6.02, 5.99, 5.95, 5.91, 5.87, 5.83, 5.8, 5.76, 5.72, 5.69, 5.64, 5.59, 5.53, 5.5, 5.44, 5.39, 5.33, 5.28, 5.24, 5.19, 5.16, 5.13, 5.11, 5.11, 5.09, 5.1, 5.1, 5.11, 5.15, 5.18, 5.22, 5.27, 5.33, 5.39, 5.45, 5.52, 5.6, 5.69, 5.78, 5.88, 5.99, 6.1, 6.2, 6.31, 6.44, 6.58, 6.72, 6.86, 6.99, 7.14, 7.28, 7.43, 7.57, 7.71, 7.85, 8.02, 8.18, 8.33, 8.5, 8.67, 8.85, 9.03, 9.21, 9.39, 9.58, 9.77, 9.94, 10.12, 10.3, 10.48, 10.64, 10.8, 10.96, 11.12, 11.29, 11.42, 11.57, 11.69, 11.79, 11.9, 12.0, 12.09, 12.17, 12.24, 12.32, 12.38, 12.44, 12.48, 12.51, 12.53, 12.53, 12.54, 12.55, 12.56, 12.55, 12.54, 12.52, 12.51, 12.5, 12.49, 12.47, 12.44, 12.44, 12.44, 12.43, 12.41, 12.38, 12.36, 12.35, 12.33, 12.3, 12.29, 12.26, 12.23, 12.2, 12.17, 12.14, 12.1, 12.07, 12.02, 11.97, 11.9, 11.83, 11.75, 11.67, 11.6, 11.54, 11.47, 11.41, 11.34, 11.26, 11.18, 11.1, 11.01, 10.92, 10.84, 10.77, 10.68, 10.62, 10.56, 10.5, 10.45, 10.39, 10.34, 10.3, 10.27, 10.22, 10.16, 10.11, 10.06, 10.02, 9.97, 9.93, 9.88, 9.82, 9.75, 9.69, 9.61, 9.52, 9.45, 9.37, 9.29, 9.22, 9.13, 9.04, 8.94, 8.86, 8.79, 8.71, 8.67, 8.63, 8.61, 8.59, 8.58, 8.56, 8.54, 8.52, 8.51, 8.5, 8.51, 8.52, 8.54, 8.57, 8.61, 8.65, 8.7, 8.74, 8.81, 8.87, 8.93, 8.99, 9.06, 9.13, 9.18, 9.23, 9.26, 9.31, 9.36, 9.41, 9.47, 9.52, 9.57, 9.62, 9.68, 9.74, 9.8, 9.86, 9.94, 10.01, 10.08, 10.14, 10.21, 10.27, 10.34, 10.43, 10.51, 10.6, 10.67, 10.75, 10.82, 10.91, 11.0, 11.08, 11.16, 11.24, 11.32, 11.41, 11.5, 11.57, 11.64, 11.71, 11.78, 11.83, 11.89, 11.93, 11.98, 12.01, 12.06, 12.1, 12.14, 12.18, 12.23, 12.29, 12.36, 12.43, 12.51, 12.6, 12.69, 12.77, 12.86, 12.95, 13.05, 13.15, 13.25, 13.34, 13.44, 13.53, 13.61, 13.7, 13.76, 13.83, 13.89, 13.97, 14.03, 14.08, 14.11, 14.12, 14.13, 14.12, 14.13, 14.12, 14.12, 14.13, 14.14, 14.15, 14.16, 14.16, 14.16, 14.17, 14.19, 14.19, 14.19, 14.2, 14.22, 14.25, 14.24, 14.25, 14.23, 14.21, 14.2, 14.17, 14.13, 14.06, 14.0, 13.93, 13.85, 13.76, 13.67, 13.57, 13.46, 13.34, 13.24, 13.15, 13.06, 12.99, 12.92, 12.86, 12.8, 12.73, 12.68, 12.64, 12.58, 12.53, 12.49, 12.46, 12.44, 12.45, 12.47, 12.48, 12.49, 12.51, 12.52, 12.52, 12.51, 12.5, 12.47, 12.45, 12.44, 12.42, 12.4, 12.39, 12.37, 12.35, 12.33, 12.29, 12.28, 12.26, 12.24, 12.22, 12.2, 12.17, 12.13, 12.12, 12.11, 12.12, 12.15, 12.17, 12.2, 12.23, 12.27, 12.32, 12.35, 12.36, 12.36, 12.37, 12.36, 12.35, 12.34, 12.34, 12.34, 12.35, 12.37, 12.38, 12.39, 12.39, 12.38, 12.38, 12.36, 12.35, 12.33, 12.29, 12.26, 12.23, 12.21, 12.19, 12.2, 12.19, 12.19, 12.2, 12.21, 12.21, 12.21, 12.2, 12.21, 12.26, 12.3, 12.36, 12.44, 12.52, 12.6, 12.69, 12.79, 12.89, 12.99, 13.08, 13.17, 13.28]\n"
     ]
    }
   ],
   "source": [
    "# close value from df\n",
    "window_size = 50 # 2%\n",
    "  \n",
    "i = len(data)-50 # 98%\n",
    "moving_averages = []\n",
    "while i > len(train['Date']): #i < len(df['Close']) - window_size:\n",
    "    window = data['Close'][i : i + window_size] #  e.g. 248 will not count # split 3519 : 3519 + 15\n",
    "    window_average = round(sum(window) / window_size, 2)\n",
    "    moving_averages.append(window_average)\n",
    "    i = i - 1\n",
    "    #print(moving_averages)    \n",
    "print(moving_averages)\n",
    "moving_averages.reverse()"
   ]
  },
  {
   "cell_type": "code",
   "execution_count": 147,
   "id": "e6f9b8f8",
   "metadata": {},
   "outputs": [],
   "source": [
    "#print(moving_averages)"
   ]
  },
  {
   "cell_type": "code",
   "execution_count": 148,
   "id": "a6788b25",
   "metadata": {},
   "outputs": [
    {
     "name": "stdout",
     "output_type": "stream",
     "text": [
      "830\n"
     ]
    }
   ],
   "source": [
    "print(len(moving_averages))"
   ]
  },
  {
   "cell_type": "code",
   "execution_count": 150,
   "id": "934363c7",
   "metadata": {},
   "outputs": [],
   "source": [
    "#print(len(valid['Date']))\n",
    "#print(len(valid['Close']))\n",
    "\n",
    "#print(len(train['Date']))\n",
    "#print(len(train['Close']))"
   ]
  },
  {
   "cell_type": "code",
   "execution_count": 151,
   "id": "4292ea5e",
   "metadata": {},
   "outputs": [],
   "source": [
    "# Just checking the RMSE does not help us to understand how the model work. "
   ]
  },
  {
   "cell_type": "code",
   "execution_count": 152,
   "id": "d07af784",
   "metadata": {},
   "outputs": [
    {
     "name": "stderr",
     "output_type": "stream",
     "text": [
      "/tmp/ipykernel_31304/3277758784.py:10: SettingWithCopyWarning: \n",
      "A value is trying to be set on a copy of a slice from a DataFrame.\n",
      "Try using .loc[row_indexer,col_indexer] = value instead\n",
      "\n",
      "See the caveats in the documentation: https://pandas.pydata.org/pandas-docs/stable/user_guide/indexing.html#returning-a-view-versus-a-copy\n",
      "  valid_mv['Predictions'] = 0\n",
      "/tmp/ipykernel_31304/3277758784.py:11: SettingWithCopyWarning: \n",
      "A value is trying to be set on a copy of a slice from a DataFrame.\n",
      "Try using .loc[row_indexer,col_indexer] = value instead\n",
      "\n",
      "See the caveats in the documentation: https://pandas.pydata.org/pandas-docs/stable/user_guide/indexing.html#returning-a-view-versus-a-copy\n",
      "  valid_mv['Predictions'] = moving_averages\n"
     ]
    },
    {
     "data": {
      "image/png": "[encoded data removed]",
      "text/plain": [
       "<Figure size 1152x576 with 1 Axes>"
      ]
     },
     "metadata": {
      "needs_background": "light"
     },
     "output_type": "display_data"
    }
   ],
   "source": [
    "plt.figure(figsize=(16,8))\n",
    "plt.plot(train['Date'], train['Close'])\n",
    "plt.plot(valid['Date'], valid['Close'], color='red')\n",
    "\n",
    "#split_mv = len(valid['Date'])-10\n",
    "#train_mv = data[:split]\n",
    "valid_mv = data[split+50:]\n",
    "\n",
    "#print(len(valid_mv))\n",
    "valid_mv['Predictions'] = 0\n",
    "valid_mv['Predictions'] = moving_averages\n",
    "\n",
    "plt.plot(valid_mv['Date'], valid_mv['Predictions'], color='green')\n",
    "\n",
    "plt.show()"
   ]
  },
  {
   "cell_type": "code",
   "execution_count": null,
   "id": "5847dc83",
   "metadata": {},
   "outputs": [],
   "source": []
  },
  {
   "cell_type": "code",
   "execution_count": null,
   "id": "487e70d8",
   "metadata": {},
   "outputs": [],
   "source": []
  }
 ],
 "metadata": {
  "kernelspec": {
   "display_name": "Python 3 (ipykernel)",
   "language": "python",
   "name": "python3"
  },
  "language_info": {
   "codemirror_mode": {
    "name": "ipython",
    "version": 3
   },
   "file_extension": ".py",
   "mimetype": "text/x-python",
   "name": "python",
   "nbconvert_exporter": "python",
   "pygments_lexer": "ipython3",
   "version": "3.9.7"
  }
 },
 "nbformat": 4,
 "nbformat_minor": 5
}
