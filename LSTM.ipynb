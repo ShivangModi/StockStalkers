{
 "cells": [
  {
   "cell_type": "code",
   "execution_count": 1,
   "metadata": {},
   "outputs": [],
   "source": [
    "import pandas as pd\n",
    "import yfinance as yf"
   ]
  },
  {
   "cell_type": "code",
   "execution_count": 2,
   "metadata": {},
   "outputs": [
    {
     "name": "stdout",
     "output_type": "stream",
     "text": [
      "[*********************100%***********************]  1 of 1 completed\n"
     ]
    }
   ],
   "source": [
    "df = yf.download('TTM').reset_index()"
   ]
  },
  {
   "cell_type": "code",
   "execution_count": 3,
   "metadata": {},
   "outputs": [],
   "source": [
    "#df=pd.read_csv('AAPL.csv')"
   ]
  },
  {
   "cell_type": "code",
   "execution_count": 4,
   "metadata": {},
   "outputs": [
    {
     "data": {
      "text/html": [
       "<div>\n",
       "<style scoped>\n",
       "    .dataframe tbody tr th:only-of-type {\n",
       "        vertical-align: middle;\n",
       "    }\n",
       "\n",
       "    .dataframe tbody tr th {\n",
       "        vertical-align: top;\n",
       "    }\n",
       "\n",
       "    .dataframe thead th {\n",
       "        text-align: right;\n",
       "    }\n",
       "</style>\n",
       "<table border=\"1\" class=\"dataframe\">\n",
       "  <thead>\n",
       "    <tr style=\"text-align: right;\">\n",
       "      <th></th>\n",
       "      <th>Date</th>\n",
       "      <th>Open</th>\n",
       "      <th>High</th>\n",
       "      <th>Low</th>\n",
       "      <th>Close</th>\n",
       "      <th>Adj Close</th>\n",
       "      <th>Volume</th>\n",
       "    </tr>\n",
       "  </thead>\n",
       "  <tbody>\n",
       "    <tr>\n",
       "      <th>0</th>\n",
       "      <td>2004-09-27</td>\n",
       "      <td>9.15</td>\n",
       "      <td>9.28</td>\n",
       "      <td>9.05</td>\n",
       "      <td>9.15</td>\n",
       "      <td>7.971042</td>\n",
       "      <td>379700</td>\n",
       "    </tr>\n",
       "    <tr>\n",
       "      <th>1</th>\n",
       "      <td>2004-09-28</td>\n",
       "      <td>8.85</td>\n",
       "      <td>8.85</td>\n",
       "      <td>8.65</td>\n",
       "      <td>8.76</td>\n",
       "      <td>7.631292</td>\n",
       "      <td>332700</td>\n",
       "    </tr>\n",
       "    <tr>\n",
       "      <th>2</th>\n",
       "      <td>2004-09-29</td>\n",
       "      <td>8.76</td>\n",
       "      <td>8.78</td>\n",
       "      <td>8.66</td>\n",
       "      <td>8.75</td>\n",
       "      <td>7.622581</td>\n",
       "      <td>119800</td>\n",
       "    </tr>\n",
       "    <tr>\n",
       "      <th>3</th>\n",
       "      <td>2004-09-30</td>\n",
       "      <td>8.89</td>\n",
       "      <td>8.97</td>\n",
       "      <td>8.89</td>\n",
       "      <td>8.97</td>\n",
       "      <td>7.814236</td>\n",
       "      <td>166400</td>\n",
       "    </tr>\n",
       "    <tr>\n",
       "      <th>4</th>\n",
       "      <td>2004-10-01</td>\n",
       "      <td>9.14</td>\n",
       "      <td>9.34</td>\n",
       "      <td>9.12</td>\n",
       "      <td>9.25</td>\n",
       "      <td>8.058157</td>\n",
       "      <td>266600</td>\n",
       "    </tr>\n",
       "  </tbody>\n",
       "</table>\n",
       "</div>"
      ],
      "text/plain": [
       "        Date  Open  High   Low  Close  Adj Close  Volume\n",
       "0 2004-09-27  9.15  9.28  9.05   9.15   7.971042  379700\n",
       "1 2004-09-28  8.85  8.85  8.65   8.76   7.631292  332700\n",
       "2 2004-09-29  8.76  8.78  8.66   8.75   7.622581  119800\n",
       "3 2004-09-30  8.89  8.97  8.89   8.97   7.814236  166400\n",
       "4 2004-10-01  9.14  9.34  9.12   9.25   8.058157  266600"
      ]
     },
     "execution_count": 4,
     "metadata": {},
     "output_type": "execute_result"
    }
   ],
   "source": [
    "df.head()"
   ]
  },
  {
   "cell_type": "code",
   "execution_count": 5,
   "metadata": {},
   "outputs": [
    {
     "data": {
      "text/html": [
       "<div>\n",
       "<style scoped>\n",
       "    .dataframe tbody tr th:only-of-type {\n",
       "        vertical-align: middle;\n",
       "    }\n",
       "\n",
       "    .dataframe tbody tr th {\n",
       "        vertical-align: top;\n",
       "    }\n",
       "\n",
       "    .dataframe thead th {\n",
       "        text-align: right;\n",
       "    }\n",
       "</style>\n",
       "<table border=\"1\" class=\"dataframe\">\n",
       "  <thead>\n",
       "    <tr style=\"text-align: right;\">\n",
       "      <th></th>\n",
       "      <th>Date</th>\n",
       "      <th>Open</th>\n",
       "      <th>High</th>\n",
       "      <th>Low</th>\n",
       "      <th>Close</th>\n",
       "      <th>Adj Close</th>\n",
       "      <th>Volume</th>\n",
       "    </tr>\n",
       "  </thead>\n",
       "  <tbody>\n",
       "    <tr>\n",
       "      <th>4405</th>\n",
       "      <td>2022-03-25</td>\n",
       "      <td>28.330000</td>\n",
       "      <td>28.410000</td>\n",
       "      <td>28.000000</td>\n",
       "      <td>28.400000</td>\n",
       "      <td>28.400000</td>\n",
       "      <td>505700</td>\n",
       "    </tr>\n",
       "    <tr>\n",
       "      <th>4406</th>\n",
       "      <td>2022-03-28</td>\n",
       "      <td>28.440001</td>\n",
       "      <td>28.700001</td>\n",
       "      <td>28.270000</td>\n",
       "      <td>28.540001</td>\n",
       "      <td>28.540001</td>\n",
       "      <td>329900</td>\n",
       "    </tr>\n",
       "    <tr>\n",
       "      <th>4407</th>\n",
       "      <td>2022-03-29</td>\n",
       "      <td>28.990000</td>\n",
       "      <td>29.590000</td>\n",
       "      <td>28.990000</td>\n",
       "      <td>29.150000</td>\n",
       "      <td>29.150000</td>\n",
       "      <td>1183500</td>\n",
       "    </tr>\n",
       "    <tr>\n",
       "      <th>4408</th>\n",
       "      <td>2022-03-30</td>\n",
       "      <td>28.690001</td>\n",
       "      <td>28.780001</td>\n",
       "      <td>28.030001</td>\n",
       "      <td>28.250000</td>\n",
       "      <td>28.250000</td>\n",
       "      <td>868000</td>\n",
       "    </tr>\n",
       "    <tr>\n",
       "      <th>4409</th>\n",
       "      <td>2022-03-31</td>\n",
       "      <td>28.170000</td>\n",
       "      <td>28.340000</td>\n",
       "      <td>27.950001</td>\n",
       "      <td>27.950001</td>\n",
       "      <td>27.950001</td>\n",
       "      <td>1051700</td>\n",
       "    </tr>\n",
       "  </tbody>\n",
       "</table>\n",
       "</div>"
      ],
      "text/plain": [
       "           Date       Open       High        Low      Close  Adj Close  \\\n",
       "4405 2022-03-25  28.330000  28.410000  28.000000  28.400000  28.400000   \n",
       "4406 2022-03-28  28.440001  28.700001  28.270000  28.540001  28.540001   \n",
       "4407 2022-03-29  28.990000  29.590000  28.990000  29.150000  29.150000   \n",
       "4408 2022-03-30  28.690001  28.780001  28.030001  28.250000  28.250000   \n",
       "4409 2022-03-31  28.170000  28.340000  27.950001  27.950001  27.950001   \n",
       "\n",
       "       Volume  \n",
       "4405   505700  \n",
       "4406   329900  \n",
       "4407  1183500  \n",
       "4408   868000  \n",
       "4409  1051700  "
      ]
     },
     "execution_count": 5,
     "metadata": {},
     "output_type": "execute_result"
    }
   ],
   "source": [
    "df.tail()"
   ]
  },
  {
   "cell_type": "code",
   "execution_count": 6,
   "metadata": {},
   "outputs": [],
   "source": [
    "df1=df.reset_index()['Close']"
   ]
  },
  {
   "cell_type": "code",
   "execution_count": 7,
   "metadata": {},
   "outputs": [
    {
     "data": {
      "text/plain": [
       "0        9.150000\n",
       "1        8.760000\n",
       "2        8.750000\n",
       "3        8.970000\n",
       "4        9.250000\n",
       "          ...    \n",
       "4405    28.400000\n",
       "4406    28.540001\n",
       "4407    29.150000\n",
       "4408    28.250000\n",
       "4409    27.950001\n",
       "Name: Close, Length: 4410, dtype: float64"
      ]
     },
     "execution_count": 7,
     "metadata": {},
     "output_type": "execute_result"
    }
   ],
   "source": [
    "df1"
   ]
  },
  {
   "cell_type": "code",
   "execution_count": 8,
   "metadata": {},
   "outputs": [
    {
     "data": {
      "text/plain": [
       "[<matplotlib.lines.Line2D at 0x7f57278b76d0>]"
      ]
     },
     "execution_count": 8,
     "metadata": {},
     "output_type": "execute_result"
    },
    {
     "data": {
      "image/png": "[encoded data removed]",
      "text/plain": [
       "<Figure size 432x288 with 1 Axes>"
      ]
     },
     "metadata": {
      "needs_background": "light"
     },
     "output_type": "display_data"
    }
   ],
   "source": [
    "import matplotlib.pyplot as plt\n",
    "plt.plot(df1)"
   ]
  },
  {
   "cell_type": "code",
   "execution_count": 9,
   "metadata": {},
   "outputs": [],
   "source": [
    "### LSTM are sensitive to the scale of the data. so we apply MinMax scaler "
   ]
  },
  {
   "cell_type": "code",
   "execution_count": 10,
   "metadata": {},
   "outputs": [],
   "source": [
    "import numpy as np"
   ]
  },
  {
   "cell_type": "code",
   "execution_count": 11,
   "metadata": {},
   "outputs": [
    {
     "data": {
      "text/plain": [
       "0        9.150000\n",
       "1        8.760000\n",
       "2        8.750000\n",
       "3        8.970000\n",
       "4        9.250000\n",
       "          ...    \n",
       "4405    28.400000\n",
       "4406    28.540001\n",
       "4407    29.150000\n",
       "4408    28.250000\n",
       "4409    27.950001\n",
       "Name: Close, Length: 4410, dtype: float64"
      ]
     },
     "execution_count": 11,
     "metadata": {},
     "output_type": "execute_result"
    }
   ],
   "source": [
    "df1"
   ]
  },
  {
   "cell_type": "code",
   "execution_count": 12,
   "metadata": {},
   "outputs": [],
   "source": [
    "from sklearn.preprocessing import MinMaxScaler\n",
    "scaler=MinMaxScaler(feature_range=(0,1))\n",
    "df1=scaler.fit_transform(np.array(df1).reshape(-1,1))"
   ]
  },
  {
   "cell_type": "code",
   "execution_count": 25,
   "metadata": {},
   "outputs": [
    {
     "name": "stdout",
     "output_type": "stream",
     "text": [
      "4410\n"
     ]
    }
   ],
   "source": [
    "print(len(df1))"
   ]
  },
  {
   "cell_type": "code",
   "execution_count": 14,
   "metadata": {},
   "outputs": [],
   "source": [
    "##splitting dataset into train and test split\n",
    "training_size=int(len(df1)*0.65)\n",
    "test_size=len(df1)-training_size\n",
    "train_data,test_data = df1[0:training_size,:],df1[training_size:len(df1),:1]"
   ]
  },
  {
   "cell_type": "code",
   "execution_count": 15,
   "metadata": {},
   "outputs": [
    {
     "data": {
      "text/plain": [
       "(2866, 1544)"
      ]
     },
     "execution_count": 15,
     "metadata": {},
     "output_type": "execute_result"
    }
   ],
   "source": [
    "training_size,test_size"
   ]
  },
  {
   "cell_type": "code",
   "execution_count": 16,
   "metadata": {},
   "outputs": [
    {
     "data": {
      "text/plain": [
       "array([[0.12435339],\n",
       "       [0.11628388],\n",
       "       [0.11607697],\n",
       "       ...,\n",
       "       [0.39871714],\n",
       "       [0.36043863],\n",
       "       [0.38071592]])"
      ]
     },
     "execution_count": 16,
     "metadata": {},
     "output_type": "execute_result"
    }
   ],
   "source": [
    "train_data"
   ]
  },
  {
   "cell_type": "code",
   "execution_count": 17,
   "metadata": {},
   "outputs": [
    {
     "data": {
      "text/plain": [
       "array([[0.39292362],\n",
       "       [0.41009722],\n",
       "       [0.41278708],\n",
       "       ...,\n",
       "       [0.53817502],\n",
       "       [0.51955306],\n",
       "       [0.51334575]])"
      ]
     },
     "execution_count": 17,
     "metadata": {},
     "output_type": "execute_result"
    }
   ],
   "source": [
    "test_data"
   ]
  },
  {
   "cell_type": "code",
   "execution_count": 26,
   "metadata": {},
   "outputs": [],
   "source": [
    "import numpy\n",
    "# convert an array of values into a dataset matrix\n",
    "def create_dataset(dataset, time_step=1):\n",
    "    dataX, dataY = [], []\n",
    "    for i in range(len(dataset)-time_step-1):\n",
    "        a = dataset[i:(i+time_step), 0]\n",
    "        #print(a) ###i=0, 0,1,2,3-----99   100 \n",
    "        dataX.append(a)\n",
    "        dataY.append(dataset[i + time_step, 0])\n",
    "    return numpy.array(dataX), numpy.array(dataY)"
   ]
  },
  {
   "cell_type": "code",
   "execution_count": 27,
   "metadata": {},
   "outputs": [],
   "source": [
    "# reshape into X=t,t+1,t+2,t+3 and Y=t+4\n",
    "time_step = 100\n",
    "X_train, y_train = create_dataset(train_data, time_step)\n",
    "X_test, ytest = create_dataset(test_data, time_step)"
   ]
  },
  {
   "cell_type": "code",
   "execution_count": 28,
   "metadata": {},
   "outputs": [
    {
     "name": "stdout",
     "output_type": "stream",
     "text": [
      "(2765, 100)\n",
      "(2765,)\n"
     ]
    },
    {
     "data": {
      "text/plain": [
       "(None, None)"
      ]
     },
     "execution_count": 28,
     "metadata": {},
     "output_type": "execute_result"
    }
   ],
   "source": [
    "print(X_train.shape), print(y_train.shape)"
   ]
  },
  {
   "cell_type": "code",
   "execution_count": 29,
   "metadata": {},
   "outputs": [
    {
     "name": "stdout",
     "output_type": "stream",
     "text": [
      "(1443, 100)\n",
      "(1443,)\n"
     ]
    },
    {
     "data": {
      "text/plain": [
       "(None, None)"
      ]
     },
     "execution_count": 29,
     "metadata": {},
     "output_type": "execute_result"
    }
   ],
   "source": [
    "print(X_test.shape), print(ytest.shape)"
   ]
  },
  {
   "cell_type": "code",
   "execution_count": 32,
   "metadata": {},
   "outputs": [],
   "source": [
    "# reshape input to be [samples, time steps, features] which is required for LSTM\n",
    "X_train =X_train.reshape(X_train.shape[0],X_train.shape[1] , 1)\n",
    "X_test = X_test.reshape(X_test.shape[0],X_test.shape[1] , 1)"
   ]
  },
  {
   "cell_type": "code",
   "execution_count": 33,
   "metadata": {},
   "outputs": [],
   "source": [
    "### Create the Stacked LSTM model\n",
    "from tensorflow.keras.models import Sequential\n",
    "from tensorflow.keras.layers import Dense\n",
    "from tensorflow.keras.layers import LSTM"
   ]
  },
  {
   "cell_type": "code",
   "execution_count": 34,
   "metadata": {},
   "outputs": [
    {
     "data": {
      "text/plain": [
       "100"
      ]
     },
     "execution_count": 34,
     "metadata": {},
     "output_type": "execute_result"
    }
   ],
   "source": [
    "X_train.shape[1]"
   ]
  },
  {
   "cell_type": "code",
   "execution_count": 35,
   "metadata": {},
   "outputs": [
    {
     "name": "stderr",
     "output_type": "stream",
     "text": [
      "2022-04-01 09:18:58.549674: W tensorflow/stream_executor/platform/default/dso_loader.cc:64] Could not load dynamic library 'libcuda.so.1'; dlerror: libcuda.so.1: cannot open shared object file: No such file or directory\n",
      "2022-04-01 09:18:58.549708: W tensorflow/stream_executor/cuda/cuda_driver.cc:269] failed call to cuInit: UNKNOWN ERROR (303)\n",
      "2022-04-01 09:18:58.549729: I tensorflow/stream_executor/cuda/cuda_diagnostics.cc:156] kernel driver does not appear to be running on this host (PrincePat3l): /proc/driver/nvidia/version does not exist\n",
      "2022-04-01 09:18:58.550011: I tensorflow/core/platform/cpu_feature_guard.cc:151] This TensorFlow binary is optimized with oneAPI Deep Neural Network Library (oneDNN) to use the following CPU instructions in performance-critical operations:  AVX2 FMA\n",
      "To enable them in other operations, rebuild TensorFlow with the appropriate compiler flags.\n"
     ]
    }
   ],
   "source": [
    "model=Sequential()\n",
    "model.add(LSTM(50,return_sequences=True,input_shape=(100,1)))\n",
    "model.add(LSTM(50,return_sequences=True))\n",
    "model.add(LSTM(50))\n",
    "model.add(Dense(1))\n",
    "model.compile(loss='mean_squared_error',optimizer='adam')\n"
   ]
  },
  {
   "cell_type": "code",
   "execution_count": 37,
   "metadata": {},
   "outputs": [
    {
     "name": "stdout",
     "output_type": "stream",
     "text": [
      "Model: \"sequential\"\n",
      "_________________________________________________________________\n",
      " Layer (type)                Output Shape              Param #   \n",
      "=================================================================\n",
      " lstm (LSTM)                 (None, 100, 50)           10400     \n",
      "                                                                 \n",
      " lstm_1 (LSTM)               (None, 100, 50)           20200     \n",
      "                                                                 \n",
      " lstm_2 (LSTM)               (None, 50)                20200     \n",
      "                                                                 \n",
      " dense (Dense)               (None, 1)                 51        \n",
      "                                                                 \n",
      "=================================================================\n",
      "Total params: 50,851\n",
      "Trainable params: 50,851\n",
      "Non-trainable params: 0\n",
      "_________________________________________________________________\n"
     ]
    }
   ],
   "source": [
    "model.summary()"
   ]
  },
  {
   "cell_type": "code",
   "execution_count": 38,
   "metadata": {},
   "outputs": [
    {
     "name": "stdout",
     "output_type": "stream",
     "text": [
      "Model: \"sequential\"\n",
      "_________________________________________________________________\n",
      " Layer (type)                Output Shape              Param #   \n",
      "=================================================================\n",
      " lstm (LSTM)                 (None, 100, 50)           10400     \n",
      "                                                                 \n",
      " lstm_1 (LSTM)               (None, 100, 50)           20200     \n",
      "                                                                 \n",
      " lstm_2 (LSTM)               (None, 50)                20200     \n",
      "                                                                 \n",
      " dense (Dense)               (None, 1)                 51        \n",
      "                                                                 \n",
      "=================================================================\n",
      "Total params: 50,851\n",
      "Trainable params: 50,851\n",
      "Non-trainable params: 0\n",
      "_________________________________________________________________\n"
     ]
    }
   ],
   "source": [
    "model.summary()"
   ]
  },
  {
   "cell_type": "code",
   "execution_count": 39,
   "metadata": {},
   "outputs": [
    {
     "name": "stdout",
     "output_type": "stream",
     "text": [
      "Epoch 1/10\n",
      "44/44 [==============================] - 19s 283ms/step - loss: 0.0235 - val_loss: 0.0024\n",
      "Epoch 2/10\n",
      "44/44 [==============================] - 11s 249ms/step - loss: 0.0015 - val_loss: 0.0015\n",
      "Epoch 3/10\n",
      "44/44 [==============================] - 9s 209ms/step - loss: 0.0013 - val_loss: 0.0015\n",
      "Epoch 4/10\n",
      "44/44 [==============================] - 11s 248ms/step - loss: 0.0012 - val_loss: 0.0015\n",
      "Epoch 5/10\n",
      "44/44 [==============================] - 10s 233ms/step - loss: 0.0011 - val_loss: 0.0013\n",
      "Epoch 6/10\n",
      "44/44 [==============================] - 10s 219ms/step - loss: 0.0011 - val_loss: 0.0012\n",
      "Epoch 7/10\n",
      "44/44 [==============================] - 11s 250ms/step - loss: 9.4834e-04 - val_loss: 0.0011\n",
      "Epoch 8/10\n",
      "44/44 [==============================] - 10s 226ms/step - loss: 9.6555e-04 - val_loss: 9.8927e-04\n",
      "Epoch 9/10\n",
      "44/44 [==============================] - 10s 237ms/step - loss: 8.8712e-04 - val_loss: 0.0012\n",
      "Epoch 10/10\n",
      "44/44 [==============================] - 10s 231ms/step - loss: 8.5830e-04 - val_loss: 8.9252e-04\n"
     ]
    },
    {
     "data": {
      "text/plain": [
       "<keras.callbacks.History at 0x7f56dc5d7520>"
      ]
     },
     "execution_count": 39,
     "metadata": {},
     "output_type": "execute_result"
    }
   ],
   "source": [
    "model.fit(X_train,y_train,validation_data=(X_test,ytest),epochs=10,batch_size=64,verbose=1)"
   ]
  },
  {
   "cell_type": "code",
   "execution_count": 40,
   "metadata": {},
   "outputs": [],
   "source": [
    "import tensorflow as tf"
   ]
  },
  {
   "cell_type": "code",
   "execution_count": 41,
   "metadata": {},
   "outputs": [
    {
     "data": {
      "text/plain": [
       "'2.8.0'"
      ]
     },
     "execution_count": 41,
     "metadata": {},
     "output_type": "execute_result"
    }
   ],
   "source": [
    "tf.__version__"
   ]
  },
  {
   "cell_type": "code",
   "execution_count": 54,
   "metadata": {},
   "outputs": [],
   "source": [
    "### Lets Do the prediction and check performance metrics\n",
    "train_predict=model.predict(X_train)\n",
    "test_predict=model.predict(X_test)"
   ]
  },
  {
   "cell_type": "code",
   "execution_count": 55,
   "metadata": {},
   "outputs": [
    {
     "data": {
      "text/plain": [
       "(2765, 100, 1)"
      ]
     },
     "execution_count": 55,
     "metadata": {},
     "output_type": "execute_result"
    }
   ],
   "source": [
    "X_train.shape"
   ]
  },
  {
   "cell_type": "code",
   "execution_count": 56,
   "metadata": {},
   "outputs": [
    {
     "data": {
      "text/plain": [
       "(1443, 100, 1)"
      ]
     },
     "execution_count": 56,
     "metadata": {},
     "output_type": "execute_result"
    }
   ],
   "source": [
    "X_test.shape"
   ]
  },
  {
   "cell_type": "code",
   "execution_count": 57,
   "metadata": {},
   "outputs": [],
   "source": [
    "##Transformback to original form\n",
    "train_predict=scaler.inverse_transform(train_predict)\n",
    "test_predict=scaler.inverse_transform(test_predict)"
   ]
  },
  {
   "cell_type": "code",
   "execution_count": 58,
   "metadata": {},
   "outputs": [
    {
     "data": {
      "text/plain": [
       "23.686710055230954"
      ]
     },
     "execution_count": 58,
     "metadata": {},
     "output_type": "execute_result"
    }
   ],
   "source": [
    "### Calculate RMSE performance metrics\n",
    "import math\n",
    "from sklearn.metrics import mean_squared_error\n",
    "math.sqrt(mean_squared_error(y_train,train_predict))"
   ]
  },
  {
   "cell_type": "code",
   "execution_count": 59,
   "metadata": {},
   "outputs": [
    {
     "data": {
      "text/plain": [
       "23.87209544965775"
      ]
     },
     "execution_count": 59,
     "metadata": {},
     "output_type": "execute_result"
    }
   ],
   "source": [
    "### Test Data RMSE\n",
    "math.sqrt(mean_squared_error(ytest,test_predict))"
   ]
  },
  {
   "cell_type": "code",
   "execution_count": 60,
   "metadata": {},
   "outputs": [
    {
     "data": {
      "image/png": "[encoded data removed]",
      "text/plain": [
       "<Figure size 1152x576 with 1 Axes>"
      ]
     },
     "metadata": {
      "needs_background": "light"
     },
     "output_type": "display_data"
    }
   ],
   "source": [
    "### Plotting \n",
    "# shift train predictions for plotting\n",
    "plt.figure(figsize=(16,8))\n",
    "look_back=100\n",
    "trainPredictPlot = numpy.empty_like(df1)\n",
    "trainPredictPlot[:, :] = np.nan\n",
    "trainPredictPlot[look_back:len(train_predict)+look_back, :] = train_predict\n",
    "# shift test predictions for plotting\n",
    "testPredictPlot = numpy.empty_like(df1)\n",
    "testPredictPlot[:, :] = numpy.nan\n",
    "testPredictPlot[len(train_predict)+(look_back*2)+1:len(df1)-1, :] = test_predict\n",
    "# plot baseline and predictions\n",
    "plt.plot(scaler.inverse_transform(df1))\n",
    "plt.plot(trainPredictPlot)\n",
    "plt.plot(testPredictPlot)\n",
    "plt.show()"
   ]
  },
  {
   "cell_type": "code",
   "execution_count": 61,
   "metadata": {},
   "outputs": [
    {
     "data": {
      "text/plain": [
       "1544"
      ]
     },
     "execution_count": 61,
     "metadata": {},
     "output_type": "execute_result"
    }
   ],
   "source": [
    "len(test_data)"
   ]
  },
  {
   "cell_type": "code",
   "execution_count": 90,
   "metadata": {},
   "outputs": [
    {
     "data": {
      "text/plain": [
       "(1, 100)"
      ]
     },
     "execution_count": 90,
     "metadata": {},
     "output_type": "execute_result"
    }
   ],
   "source": [
    "x_input=test_data[len(test_data)-100:].reshape(1,-1)\n",
    "x_input.shape"
   ]
  },
  {
   "cell_type": "code",
   "execution_count": 91,
   "metadata": {},
   "outputs": [],
   "source": [
    "temp_input=list(x_input)\n",
    "#print(temp_input)\n",
    "#print(\"111111111111111111111------------\")\n",
    "temp_input=temp_input[0].tolist()\n",
    "#print(temp_input)"
   ]
  },
  {
   "cell_type": "code",
   "execution_count": 92,
   "metadata": {},
   "outputs": [],
   "source": [
    "#temp_input"
   ]
  },
  {
   "cell_type": "code",
   "execution_count": 93,
   "metadata": {},
   "outputs": [
    {
     "name": "stdout",
     "output_type": "stream",
     "text": [
      "[0.5154253]\n",
      "101\n",
      "1 day input [0.63045727 0.62735357 0.63004344 0.62962961 0.62962961 0.65218289\n",
      " 0.65797637 0.62073244 0.6271467  0.60211051 0.61452513 0.61535279\n",
      " 0.56321125 0.57562587 0.56693565 0.58224705 0.59652387 0.58576454\n",
      " 0.5723153  0.59404096 0.60976619 0.60004135 0.61266293 0.59611008\n",
      " 0.59073039 0.60024831 0.5894889  0.56217668 0.54479616 0.56362505\n",
      " 0.58679907 0.58079864 0.59259259 0.5913511  0.58783361 0.58328159\n",
      " 0.59900682 0.62776741 0.60190355 0.59611008 0.614732   0.61535279\n",
      " 0.6308711  0.64121664 0.64514792 0.63852678 0.64887232 0.63397471\n",
      " 0.64473409 0.63914749 0.60997306 0.58700599 0.5950755  0.59197184\n",
      " 0.61162839 0.61307676 0.63356088 0.62611216 0.63149181 0.62011173\n",
      " 0.61990477 0.61369746 0.61762882 0.63914749 0.6252845  0.60128285\n",
      " 0.57872956 0.62197393 0.61887023 0.61721499 0.6110076  0.58783361\n",
      " 0.57707428 0.54252017 0.5723153  0.56176288 0.53093314 0.55348642\n",
      " 0.51603557 0.47982618 0.44713427 0.45023793 0.4862404  0.47548107\n",
      " 0.47713636 0.46823919 0.50610386 0.52389817 0.51603557 0.52658803\n",
      " 0.51065589 0.52700186 0.51748394 0.52638111 0.52265671 0.52555349\n",
      " 0.53817502 0.51955306 0.51334575 0.51542532]\n",
      "1 day output [[0.5191567]]\n",
      "2 day input [0.62735357 0.63004344 0.62962961 0.62962961 0.65218289 0.65797637\n",
      " 0.62073244 0.6271467  0.60211051 0.61452513 0.61535279 0.56321125\n",
      " 0.57562587 0.56693565 0.58224705 0.59652387 0.58576454 0.5723153\n",
      " 0.59404096 0.60976619 0.60004135 0.61266293 0.59611008 0.59073039\n",
      " 0.60024831 0.5894889  0.56217668 0.54479616 0.56362505 0.58679907\n",
      " 0.58079864 0.59259259 0.5913511  0.58783361 0.58328159 0.59900682\n",
      " 0.62776741 0.60190355 0.59611008 0.614732   0.61535279 0.6308711\n",
      " 0.64121664 0.64514792 0.63852678 0.64887232 0.63397471 0.64473409\n",
      " 0.63914749 0.60997306 0.58700599 0.5950755  0.59197184 0.61162839\n",
      " 0.61307676 0.63356088 0.62611216 0.63149181 0.62011173 0.61990477\n",
      " 0.61369746 0.61762882 0.63914749 0.6252845  0.60128285 0.57872956\n",
      " 0.62197393 0.61887023 0.61721499 0.6110076  0.58783361 0.57707428\n",
      " 0.54252017 0.5723153  0.56176288 0.53093314 0.55348642 0.51603557\n",
      " 0.47982618 0.44713427 0.45023793 0.4862404  0.47548107 0.47713636\n",
      " 0.46823919 0.50610386 0.52389817 0.51603557 0.52658803 0.51065589\n",
      " 0.52700186 0.51748394 0.52638111 0.52265671 0.52555349 0.53817502\n",
      " 0.51955306 0.51334575 0.51542532 0.51915669]\n",
      "2 day output [[0.5219798]]\n",
      "3 day input [0.63004344 0.62962961 0.62962961 0.65218289 0.65797637 0.62073244\n",
      " 0.6271467  0.60211051 0.61452513 0.61535279 0.56321125 0.57562587\n",
      " 0.56693565 0.58224705 0.59652387 0.58576454 0.5723153  0.59404096\n",
      " 0.60976619 0.60004135 0.61266293 0.59611008 0.59073039 0.60024831\n",
      " 0.5894889  0.56217668 0.54479616 0.56362505 0.58679907 0.58079864\n",
      " 0.59259259 0.5913511  0.58783361 0.58328159 0.59900682 0.62776741\n",
      " 0.60190355 0.59611008 0.614732   0.61535279 0.6308711  0.64121664\n",
      " 0.64514792 0.63852678 0.64887232 0.63397471 0.64473409 0.63914749\n",
      " 0.60997306 0.58700599 0.5950755  0.59197184 0.61162839 0.61307676\n",
      " 0.63356088 0.62611216 0.63149181 0.62011173 0.61990477 0.61369746\n",
      " 0.61762882 0.63914749 0.6252845  0.60128285 0.57872956 0.62197393\n",
      " 0.61887023 0.61721499 0.6110076  0.58783361 0.57707428 0.54252017\n",
      " 0.5723153  0.56176288 0.53093314 0.55348642 0.51603557 0.47982618\n",
      " 0.44713427 0.45023793 0.4862404  0.47548107 0.47713636 0.46823919\n",
      " 0.50610386 0.52389817 0.51603557 0.52658803 0.51065589 0.52700186\n",
      " 0.51748394 0.52638111 0.52265671 0.52555349 0.53817502 0.51955306\n",
      " 0.51334575 0.51542532 0.51915669 0.52197981]\n",
      "3 day output [[0.5240343]]\n",
      "4 day input [0.62962961 0.62962961 0.65218289 0.65797637 0.62073244 0.6271467\n",
      " 0.60211051 0.61452513 0.61535279 0.56321125 0.57562587 0.56693565\n",
      " 0.58224705 0.59652387 0.58576454 0.5723153  0.59404096 0.60976619\n",
      " 0.60004135 0.61266293 0.59611008 0.59073039 0.60024831 0.5894889\n",
      " 0.56217668 0.54479616 0.56362505 0.58679907 0.58079864 0.59259259\n",
      " 0.5913511  0.58783361 0.58328159 0.59900682 0.62776741 0.60190355\n",
      " 0.59611008 0.614732   0.61535279 0.6308711  0.64121664 0.64514792\n",
      " 0.63852678 0.64887232 0.63397471 0.64473409 0.63914749 0.60997306\n",
      " 0.58700599 0.5950755  0.59197184 0.61162839 0.61307676 0.63356088\n",
      " 0.62611216 0.63149181 0.62011173 0.61990477 0.61369746 0.61762882\n",
      " 0.63914749 0.6252845  0.60128285 0.57872956 0.62197393 0.61887023\n",
      " 0.61721499 0.6110076  0.58783361 0.57707428 0.54252017 0.5723153\n",
      " 0.56176288 0.53093314 0.55348642 0.51603557 0.47982618 0.44713427\n",
      " 0.45023793 0.4862404  0.47548107 0.47713636 0.46823919 0.50610386\n",
      " 0.52389817 0.51603557 0.52658803 0.51065589 0.52700186 0.51748394\n",
      " 0.52638111 0.52265671 0.52555349 0.53817502 0.51955306 0.51334575\n",
      " 0.51542532 0.51915669 0.52197981 0.52403432]\n",
      "4 day output [[0.52549106]]\n",
      "5 day input [0.62962961 0.65218289 0.65797637 0.62073244 0.6271467  0.60211051\n",
      " 0.61452513 0.61535279 0.56321125 0.57562587 0.56693565 0.58224705\n",
      " 0.59652387 0.58576454 0.5723153  0.59404096 0.60976619 0.60004135\n",
      " 0.61266293 0.59611008 0.59073039 0.60024831 0.5894889  0.56217668\n",
      " 0.54479616 0.56362505 0.58679907 0.58079864 0.59259259 0.5913511\n",
      " 0.58783361 0.58328159 0.59900682 0.62776741 0.60190355 0.59611008\n",
      " 0.614732   0.61535279 0.6308711  0.64121664 0.64514792 0.63852678\n",
      " 0.64887232 0.63397471 0.64473409 0.63914749 0.60997306 0.58700599\n",
      " 0.5950755  0.59197184 0.61162839 0.61307676 0.63356088 0.62611216\n",
      " 0.63149181 0.62011173 0.61990477 0.61369746 0.61762882 0.63914749\n",
      " 0.6252845  0.60128285 0.57872956 0.62197393 0.61887023 0.61721499\n",
      " 0.6110076  0.58783361 0.57707428 0.54252017 0.5723153  0.56176288\n",
      " 0.53093314 0.55348642 0.51603557 0.47982618 0.44713427 0.45023793\n",
      " 0.4862404  0.47548107 0.47713636 0.46823919 0.50610386 0.52389817\n",
      " 0.51603557 0.52658803 0.51065589 0.52700186 0.51748394 0.52638111\n",
      " 0.52265671 0.52555349 0.53817502 0.51955306 0.51334575 0.51542532\n",
      " 0.51915669 0.52197981 0.52403432 0.52549106]\n",
      "5 day output [[0.52651566]]\n",
      "6 day input [0.65218289 0.65797637 0.62073244 0.6271467  0.60211051 0.61452513\n",
      " 0.61535279 0.56321125 0.57562587 0.56693565 0.58224705 0.59652387\n",
      " 0.58576454 0.5723153  0.59404096 0.60976619 0.60004135 0.61266293\n",
      " 0.59611008 0.59073039 0.60024831 0.5894889  0.56217668 0.54479616\n",
      " 0.56362505 0.58679907 0.58079864 0.59259259 0.5913511  0.58783361\n",
      " 0.58328159 0.59900682 0.62776741 0.60190355 0.59611008 0.614732\n",
      " 0.61535279 0.6308711  0.64121664 0.64514792 0.63852678 0.64887232\n",
      " 0.63397471 0.64473409 0.63914749 0.60997306 0.58700599 0.5950755\n",
      " 0.59197184 0.61162839 0.61307676 0.63356088 0.62611216 0.63149181\n",
      " 0.62011173 0.61990477 0.61369746 0.61762882 0.63914749 0.6252845\n",
      " 0.60128285 0.57872956 0.62197393 0.61887023 0.61721499 0.6110076\n",
      " 0.58783361 0.57707428 0.54252017 0.5723153  0.56176288 0.53093314\n",
      " 0.55348642 0.51603557 0.47982618 0.44713427 0.45023793 0.4862404\n",
      " 0.47548107 0.47713636 0.46823919 0.50610386 0.52389817 0.51603557\n",
      " 0.52658803 0.51065589 0.52700186 0.51748394 0.52638111 0.52265671\n",
      " 0.52555349 0.53817502 0.51955306 0.51334575 0.51542532 0.51915669\n",
      " 0.52197981 0.52403432 0.52549106 0.52651566]\n",
      "6 day output [[0.5272487]]\n",
      "7 day input [0.65797637 0.62073244 0.6271467  0.60211051 0.61452513 0.61535279\n",
      " 0.56321125 0.57562587 0.56693565 0.58224705 0.59652387 0.58576454\n",
      " 0.5723153  0.59404096 0.60976619 0.60004135 0.61266293 0.59611008\n",
      " 0.59073039 0.60024831 0.5894889  0.56217668 0.54479616 0.56362505\n",
      " 0.58679907 0.58079864 0.59259259 0.5913511  0.58783361 0.58328159\n",
      " 0.59900682 0.62776741 0.60190355 0.59611008 0.614732   0.61535279\n",
      " 0.6308711  0.64121664 0.64514792 0.63852678 0.64887232 0.63397471\n",
      " 0.64473409 0.63914749 0.60997306 0.58700599 0.5950755  0.59197184\n",
      " 0.61162839 0.61307676 0.63356088 0.62611216 0.63149181 0.62011173\n",
      " 0.61990477 0.61369746 0.61762882 0.63914749 0.6252845  0.60128285\n",
      " 0.57872956 0.62197393 0.61887023 0.61721499 0.6110076  0.58783361\n",
      " 0.57707428 0.54252017 0.5723153  0.56176288 0.53093314 0.55348642\n",
      " 0.51603557 0.47982618 0.44713427 0.45023793 0.4862404  0.47548107\n",
      " 0.47713636 0.46823919 0.50610386 0.52389817 0.51603557 0.52658803\n",
      " 0.51065589 0.52700186 0.51748394 0.52638111 0.52265671 0.52555349\n",
      " 0.53817502 0.51955306 0.51334575 0.51542532 0.51915669 0.52197981\n",
      " 0.52403432 0.52549106 0.52651566 0.52724868]\n",
      "7 day output [[0.5277991]]\n",
      "8 day input [0.62073244 0.6271467  0.60211051 0.61452513 0.61535279 0.56321125\n",
      " 0.57562587 0.56693565 0.58224705 0.59652387 0.58576454 0.5723153\n",
      " 0.59404096 0.60976619 0.60004135 0.61266293 0.59611008 0.59073039\n",
      " 0.60024831 0.5894889  0.56217668 0.54479616 0.56362505 0.58679907\n",
      " 0.58079864 0.59259259 0.5913511  0.58783361 0.58328159 0.59900682\n",
      " 0.62776741 0.60190355 0.59611008 0.614732   0.61535279 0.6308711\n",
      " 0.64121664 0.64514792 0.63852678 0.64887232 0.63397471 0.64473409\n",
      " 0.63914749 0.60997306 0.58700599 0.5950755  0.59197184 0.61162839\n",
      " 0.61307676 0.63356088 0.62611216 0.63149181 0.62011173 0.61990477\n",
      " 0.61369746 0.61762882 0.63914749 0.6252845  0.60128285 0.57872956\n",
      " 0.62197393 0.61887023 0.61721499 0.6110076  0.58783361 0.57707428\n",
      " 0.54252017 0.5723153  0.56176288 0.53093314 0.55348642 0.51603557\n",
      " 0.47982618 0.44713427 0.45023793 0.4862404  0.47548107 0.47713636\n",
      " 0.46823919 0.50610386 0.52389817 0.51603557 0.52658803 0.51065589\n",
      " 0.52700186 0.51748394 0.52638111 0.52265671 0.52555349 0.53817502\n",
      " 0.51955306 0.51334575 0.51542532 0.51915669 0.52197981 0.52403432\n",
      " 0.52549106 0.52651566 0.52724868 0.52779913]\n",
      "8 day output [[0.52824414]]\n",
      "9 day input [0.6271467  0.60211051 0.61452513 0.61535279 0.56321125 0.57562587\n",
      " 0.56693565 0.58224705 0.59652387 0.58576454 0.5723153  0.59404096\n",
      " 0.60976619 0.60004135 0.61266293 0.59611008 0.59073039 0.60024831\n",
      " 0.5894889  0.56217668 0.54479616 0.56362505 0.58679907 0.58079864\n",
      " 0.59259259 0.5913511  0.58783361 0.58328159 0.59900682 0.62776741\n",
      " 0.60190355 0.59611008 0.614732   0.61535279 0.6308711  0.64121664\n",
      " 0.64514792 0.63852678 0.64887232 0.63397471 0.64473409 0.63914749\n",
      " 0.60997306 0.58700599 0.5950755  0.59197184 0.61162839 0.61307676\n",
      " 0.63356088 0.62611216 0.63149181 0.62011173 0.61990477 0.61369746\n",
      " 0.61762882 0.63914749 0.6252845  0.60128285 0.57872956 0.62197393\n",
      " 0.61887023 0.61721499 0.6110076  0.58783361 0.57707428 0.54252017\n",
      " 0.5723153  0.56176288 0.53093314 0.55348642 0.51603557 0.47982618\n",
      " 0.44713427 0.45023793 0.4862404  0.47548107 0.47713636 0.46823919\n",
      " 0.50610386 0.52389817 0.51603557 0.52658803 0.51065589 0.52700186\n",
      " 0.51748394 0.52638111 0.52265671 0.52555349 0.53817502 0.51955306\n",
      " 0.51334575 0.51542532 0.51915669 0.52197981 0.52403432 0.52549106\n",
      " 0.52651566 0.52724868 0.52779913 0.52824414]\n"
     ]
    },
    {
     "name": "stdout",
     "output_type": "stream",
     "text": [
      "9 day output [[0.52863467]]\n",
      "10 day input [0.60211051 0.61452513 0.61535279 0.56321125 0.57562587 0.56693565\n",
      " 0.58224705 0.59652387 0.58576454 0.5723153  0.59404096 0.60976619\n",
      " 0.60004135 0.61266293 0.59611008 0.59073039 0.60024831 0.5894889\n",
      " 0.56217668 0.54479616 0.56362505 0.58679907 0.58079864 0.59259259\n",
      " 0.5913511  0.58783361 0.58328159 0.59900682 0.62776741 0.60190355\n",
      " 0.59611008 0.614732   0.61535279 0.6308711  0.64121664 0.64514792\n",
      " 0.63852678 0.64887232 0.63397471 0.64473409 0.63914749 0.60997306\n",
      " 0.58700599 0.5950755  0.59197184 0.61162839 0.61307676 0.63356088\n",
      " 0.62611216 0.63149181 0.62011173 0.61990477 0.61369746 0.61762882\n",
      " 0.63914749 0.6252845  0.60128285 0.57872956 0.62197393 0.61887023\n",
      " 0.61721499 0.6110076  0.58783361 0.57707428 0.54252017 0.5723153\n",
      " 0.56176288 0.53093314 0.55348642 0.51603557 0.47982618 0.44713427\n",
      " 0.45023793 0.4862404  0.47548107 0.47713636 0.46823919 0.50610386\n",
      " 0.52389817 0.51603557 0.52658803 0.51065589 0.52700186 0.51748394\n",
      " 0.52638111 0.52265671 0.52555349 0.53817502 0.51955306 0.51334575\n",
      " 0.51542532 0.51915669 0.52197981 0.52403432 0.52549106 0.52651566\n",
      " 0.52724868 0.52779913 0.52824414 0.52863467]\n",
      "10 day output [[0.529001]]\n",
      "11 day input [0.61452513 0.61535279 0.56321125 0.57562587 0.56693565 0.58224705\n",
      " 0.59652387 0.58576454 0.5723153  0.59404096 0.60976619 0.60004135\n",
      " 0.61266293 0.59611008 0.59073039 0.60024831 0.5894889  0.56217668\n",
      " 0.54479616 0.56362505 0.58679907 0.58079864 0.59259259 0.5913511\n",
      " 0.58783361 0.58328159 0.59900682 0.62776741 0.60190355 0.59611008\n",
      " 0.614732   0.61535279 0.6308711  0.64121664 0.64514792 0.63852678\n",
      " 0.64887232 0.63397471 0.64473409 0.63914749 0.60997306 0.58700599\n",
      " 0.5950755  0.59197184 0.61162839 0.61307676 0.63356088 0.62611216\n",
      " 0.63149181 0.62011173 0.61990477 0.61369746 0.61762882 0.63914749\n",
      " 0.6252845  0.60128285 0.57872956 0.62197393 0.61887023 0.61721499\n",
      " 0.6110076  0.58783361 0.57707428 0.54252017 0.5723153  0.56176288\n",
      " 0.53093314 0.55348642 0.51603557 0.47982618 0.44713427 0.45023793\n",
      " 0.4862404  0.47548107 0.47713636 0.46823919 0.50610386 0.52389817\n",
      " 0.51603557 0.52658803 0.51065589 0.52700186 0.51748394 0.52638111\n",
      " 0.52265671 0.52555349 0.53817502 0.51955306 0.51334575 0.51542532\n",
      " 0.51915669 0.52197981 0.52403432 0.52549106 0.52651566 0.52724868\n",
      " 0.52779913 0.52824414 0.52863467 0.529001  ]\n",
      "11 day output [[0.5293586]]\n",
      "12 day input [0.61535279 0.56321125 0.57562587 0.56693565 0.58224705 0.59652387\n",
      " 0.58576454 0.5723153  0.59404096 0.60976619 0.60004135 0.61266293\n",
      " 0.59611008 0.59073039 0.60024831 0.5894889  0.56217668 0.54479616\n",
      " 0.56362505 0.58679907 0.58079864 0.59259259 0.5913511  0.58783361\n",
      " 0.58328159 0.59900682 0.62776741 0.60190355 0.59611008 0.614732\n",
      " 0.61535279 0.6308711  0.64121664 0.64514792 0.63852678 0.64887232\n",
      " 0.63397471 0.64473409 0.63914749 0.60997306 0.58700599 0.5950755\n",
      " 0.59197184 0.61162839 0.61307676 0.63356088 0.62611216 0.63149181\n",
      " 0.62011173 0.61990477 0.61369746 0.61762882 0.63914749 0.6252845\n",
      " 0.60128285 0.57872956 0.62197393 0.61887023 0.61721499 0.6110076\n",
      " 0.58783361 0.57707428 0.54252017 0.5723153  0.56176288 0.53093314\n",
      " 0.55348642 0.51603557 0.47982618 0.44713427 0.45023793 0.4862404\n",
      " 0.47548107 0.47713636 0.46823919 0.50610386 0.52389817 0.51603557\n",
      " 0.52658803 0.51065589 0.52700186 0.51748394 0.52638111 0.52265671\n",
      " 0.52555349 0.53817502 0.51955306 0.51334575 0.51542532 0.51915669\n",
      " 0.52197981 0.52403432 0.52549106 0.52651566 0.52724868 0.52779913\n",
      " 0.52824414 0.52863467 0.529001   0.52935863]\n",
      "12 day output [[0.5297143]]\n",
      "13 day input [0.56321125 0.57562587 0.56693565 0.58224705 0.59652387 0.58576454\n",
      " 0.5723153  0.59404096 0.60976619 0.60004135 0.61266293 0.59611008\n",
      " 0.59073039 0.60024831 0.5894889  0.56217668 0.54479616 0.56362505\n",
      " 0.58679907 0.58079864 0.59259259 0.5913511  0.58783361 0.58328159\n",
      " 0.59900682 0.62776741 0.60190355 0.59611008 0.614732   0.61535279\n",
      " 0.6308711  0.64121664 0.64514792 0.63852678 0.64887232 0.63397471\n",
      " 0.64473409 0.63914749 0.60997306 0.58700599 0.5950755  0.59197184\n",
      " 0.61162839 0.61307676 0.63356088 0.62611216 0.63149181 0.62011173\n",
      " 0.61990477 0.61369746 0.61762882 0.63914749 0.6252845  0.60128285\n",
      " 0.57872956 0.62197393 0.61887023 0.61721499 0.6110076  0.58783361\n",
      " 0.57707428 0.54252017 0.5723153  0.56176288 0.53093314 0.55348642\n",
      " 0.51603557 0.47982618 0.44713427 0.45023793 0.4862404  0.47548107\n",
      " 0.47713636 0.46823919 0.50610386 0.52389817 0.51603557 0.52658803\n",
      " 0.51065589 0.52700186 0.51748394 0.52638111 0.52265671 0.52555349\n",
      " 0.53817502 0.51955306 0.51334575 0.51542532 0.51915669 0.52197981\n",
      " 0.52403432 0.52549106 0.52651566 0.52724868 0.52779913 0.52824414\n",
      " 0.52863467 0.529001   0.52935863 0.52971429]\n",
      "13 day output [[0.53006876]]\n",
      "14 day input [0.57562587 0.56693565 0.58224705 0.59652387 0.58576454 0.5723153\n",
      " 0.59404096 0.60976619 0.60004135 0.61266293 0.59611008 0.59073039\n",
      " 0.60024831 0.5894889  0.56217668 0.54479616 0.56362505 0.58679907\n",
      " 0.58079864 0.59259259 0.5913511  0.58783361 0.58328159 0.59900682\n",
      " 0.62776741 0.60190355 0.59611008 0.614732   0.61535279 0.6308711\n",
      " 0.64121664 0.64514792 0.63852678 0.64887232 0.63397471 0.64473409\n",
      " 0.63914749 0.60997306 0.58700599 0.5950755  0.59197184 0.61162839\n",
      " 0.61307676 0.63356088 0.62611216 0.63149181 0.62011173 0.61990477\n",
      " 0.61369746 0.61762882 0.63914749 0.6252845  0.60128285 0.57872956\n",
      " 0.62197393 0.61887023 0.61721499 0.6110076  0.58783361 0.57707428\n",
      " 0.54252017 0.5723153  0.56176288 0.53093314 0.55348642 0.51603557\n",
      " 0.47982618 0.44713427 0.45023793 0.4862404  0.47548107 0.47713636\n",
      " 0.46823919 0.50610386 0.52389817 0.51603557 0.52658803 0.51065589\n",
      " 0.52700186 0.51748394 0.52638111 0.52265671 0.52555349 0.53817502\n",
      " 0.51955306 0.51334575 0.51542532 0.51915669 0.52197981 0.52403432\n",
      " 0.52549106 0.52651566 0.52724868 0.52779913 0.52824414 0.52863467\n",
      " 0.529001   0.52935863 0.52971429 0.53006876]\n",
      "14 day output [[0.5304202]]\n",
      "15 day input [0.56693565 0.58224705 0.59652387 0.58576454 0.5723153  0.59404096\n",
      " 0.60976619 0.60004135 0.61266293 0.59611008 0.59073039 0.60024831\n",
      " 0.5894889  0.56217668 0.54479616 0.56362505 0.58679907 0.58079864\n",
      " 0.59259259 0.5913511  0.58783361 0.58328159 0.59900682 0.62776741\n",
      " 0.60190355 0.59611008 0.614732   0.61535279 0.6308711  0.64121664\n",
      " 0.64514792 0.63852678 0.64887232 0.63397471 0.64473409 0.63914749\n",
      " 0.60997306 0.58700599 0.5950755  0.59197184 0.61162839 0.61307676\n",
      " 0.63356088 0.62611216 0.63149181 0.62011173 0.61990477 0.61369746\n",
      " 0.61762882 0.63914749 0.6252845  0.60128285 0.57872956 0.62197393\n",
      " 0.61887023 0.61721499 0.6110076  0.58783361 0.57707428 0.54252017\n",
      " 0.5723153  0.56176288 0.53093314 0.55348642 0.51603557 0.47982618\n",
      " 0.44713427 0.45023793 0.4862404  0.47548107 0.47713636 0.46823919\n",
      " 0.50610386 0.52389817 0.51603557 0.52658803 0.51065589 0.52700186\n",
      " 0.51748394 0.52638111 0.52265671 0.52555349 0.53817502 0.51955306\n",
      " 0.51334575 0.51542532 0.51915669 0.52197981 0.52403432 0.52549106\n",
      " 0.52651566 0.52724868 0.52779913 0.52824414 0.52863467 0.529001\n",
      " 0.52935863 0.52971429 0.53006876 0.53042018]\n",
      "15 day output [[0.53076637]]\n",
      "16 day input [0.58224705 0.59652387 0.58576454 0.5723153  0.59404096 0.60976619\n",
      " 0.60004135 0.61266293 0.59611008 0.59073039 0.60024831 0.5894889\n",
      " 0.56217668 0.54479616 0.56362505 0.58679907 0.58079864 0.59259259\n",
      " 0.5913511  0.58783361 0.58328159 0.59900682 0.62776741 0.60190355\n",
      " 0.59611008 0.614732   0.61535279 0.6308711  0.64121664 0.64514792\n",
      " 0.63852678 0.64887232 0.63397471 0.64473409 0.63914749 0.60997306\n",
      " 0.58700599 0.5950755  0.59197184 0.61162839 0.61307676 0.63356088\n",
      " 0.62611216 0.63149181 0.62011173 0.61990477 0.61369746 0.61762882\n",
      " 0.63914749 0.6252845  0.60128285 0.57872956 0.62197393 0.61887023\n",
      " 0.61721499 0.6110076  0.58783361 0.57707428 0.54252017 0.5723153\n",
      " 0.56176288 0.53093314 0.55348642 0.51603557 0.47982618 0.44713427\n",
      " 0.45023793 0.4862404  0.47548107 0.47713636 0.46823919 0.50610386\n",
      " 0.52389817 0.51603557 0.52658803 0.51065589 0.52700186 0.51748394\n",
      " 0.52638111 0.52265671 0.52555349 0.53817502 0.51955306 0.51334575\n",
      " 0.51542532 0.51915669 0.52197981 0.52403432 0.52549106 0.52651566\n",
      " 0.52724868 0.52779913 0.52824414 0.52863467 0.529001   0.52935863\n",
      " 0.52971429 0.53006876 0.53042018 0.53076637]\n",
      "16 day output [[0.531105]]\n",
      "17 day input [0.59652387 0.58576454 0.5723153  0.59404096 0.60976619 0.60004135\n",
      " 0.61266293 0.59611008 0.59073039 0.60024831 0.5894889  0.56217668\n",
      " 0.54479616 0.56362505 0.58679907 0.58079864 0.59259259 0.5913511\n",
      " 0.58783361 0.58328159 0.59900682 0.62776741 0.60190355 0.59611008\n",
      " 0.614732   0.61535279 0.6308711  0.64121664 0.64514792 0.63852678\n",
      " 0.64887232 0.63397471 0.64473409 0.63914749 0.60997306 0.58700599\n",
      " 0.5950755  0.59197184 0.61162839 0.61307676 0.63356088 0.62611216\n",
      " 0.63149181 0.62011173 0.61990477 0.61369746 0.61762882 0.63914749\n",
      " 0.6252845  0.60128285 0.57872956 0.62197393 0.61887023 0.61721499\n",
      " 0.6110076  0.58783361 0.57707428 0.54252017 0.5723153  0.56176288\n",
      " 0.53093314 0.55348642 0.51603557 0.47982618 0.44713427 0.45023793\n",
      " 0.4862404  0.47548107 0.47713636 0.46823919 0.50610386 0.52389817\n",
      " 0.51603557 0.52658803 0.51065589 0.52700186 0.51748394 0.52638111\n",
      " 0.52265671 0.52555349 0.53817502 0.51955306 0.51334575 0.51542532\n",
      " 0.51915669 0.52197981 0.52403432 0.52549106 0.52651566 0.52724868\n",
      " 0.52779913 0.52824414 0.52863467 0.529001   0.52935863 0.52971429\n",
      " 0.53006876 0.53042018 0.53076637 0.53110498]\n",
      "17 day output [[0.5314342]]\n",
      "18 day input [0.58576454 0.5723153  0.59404096 0.60976619 0.60004135 0.61266293\n",
      " 0.59611008 0.59073039 0.60024831 0.5894889  0.56217668 0.54479616\n",
      " 0.56362505 0.58679907 0.58079864 0.59259259 0.5913511  0.58783361\n",
      " 0.58328159 0.59900682 0.62776741 0.60190355 0.59611008 0.614732\n",
      " 0.61535279 0.6308711  0.64121664 0.64514792 0.63852678 0.64887232\n",
      " 0.63397471 0.64473409 0.63914749 0.60997306 0.58700599 0.5950755\n",
      " 0.59197184 0.61162839 0.61307676 0.63356088 0.62611216 0.63149181\n",
      " 0.62011173 0.61990477 0.61369746 0.61762882 0.63914749 0.6252845\n",
      " 0.60128285 0.57872956 0.62197393 0.61887023 0.61721499 0.6110076\n",
      " 0.58783361 0.57707428 0.54252017 0.5723153  0.56176288 0.53093314\n",
      " 0.55348642 0.51603557 0.47982618 0.44713427 0.45023793 0.4862404\n",
      " 0.47548107 0.47713636 0.46823919 0.50610386 0.52389817 0.51603557\n",
      " 0.52658803 0.51065589 0.52700186 0.51748394 0.52638111 0.52265671\n",
      " 0.52555349 0.53817502 0.51955306 0.51334575 0.51542532 0.51915669\n",
      " 0.52197981 0.52403432 0.52549106 0.52651566 0.52724868 0.52779913\n",
      " 0.52824414 0.52863467 0.529001   0.52935863 0.52971429 0.53006876\n",
      " 0.53042018 0.53076637 0.53110498 0.53143418]\n"
     ]
    },
    {
     "name": "stdout",
     "output_type": "stream",
     "text": [
      "18 day output [[0.5317529]]\n",
      "19 day input [0.5723153  0.59404096 0.60976619 0.60004135 0.61266293 0.59611008\n",
      " 0.59073039 0.60024831 0.5894889  0.56217668 0.54479616 0.56362505\n",
      " 0.58679907 0.58079864 0.59259259 0.5913511  0.58783361 0.58328159\n",
      " 0.59900682 0.62776741 0.60190355 0.59611008 0.614732   0.61535279\n",
      " 0.6308711  0.64121664 0.64514792 0.63852678 0.64887232 0.63397471\n",
      " 0.64473409 0.63914749 0.60997306 0.58700599 0.5950755  0.59197184\n",
      " 0.61162839 0.61307676 0.63356088 0.62611216 0.63149181 0.62011173\n",
      " 0.61990477 0.61369746 0.61762882 0.63914749 0.6252845  0.60128285\n",
      " 0.57872956 0.62197393 0.61887023 0.61721499 0.6110076  0.58783361\n",
      " 0.57707428 0.54252017 0.5723153  0.56176288 0.53093314 0.55348642\n",
      " 0.51603557 0.47982618 0.44713427 0.45023793 0.4862404  0.47548107\n",
      " 0.47713636 0.46823919 0.50610386 0.52389817 0.51603557 0.52658803\n",
      " 0.51065589 0.52700186 0.51748394 0.52638111 0.52265671 0.52555349\n",
      " 0.53817502 0.51955306 0.51334575 0.51542532 0.51915669 0.52197981\n",
      " 0.52403432 0.52549106 0.52651566 0.52724868 0.52779913 0.52824414\n",
      " 0.52863467 0.529001   0.52935863 0.52971429 0.53006876 0.53042018\n",
      " 0.53076637 0.53110498 0.53143418 0.53175288]\n",
      "19 day output [[0.532061]]\n",
      "20 day input [0.59404096 0.60976619 0.60004135 0.61266293 0.59611008 0.59073039\n",
      " 0.60024831 0.5894889  0.56217668 0.54479616 0.56362505 0.58679907\n",
      " 0.58079864 0.59259259 0.5913511  0.58783361 0.58328159 0.59900682\n",
      " 0.62776741 0.60190355 0.59611008 0.614732   0.61535279 0.6308711\n",
      " 0.64121664 0.64514792 0.63852678 0.64887232 0.63397471 0.64473409\n",
      " 0.63914749 0.60997306 0.58700599 0.5950755  0.59197184 0.61162839\n",
      " 0.61307676 0.63356088 0.62611216 0.63149181 0.62011173 0.61990477\n",
      " 0.61369746 0.61762882 0.63914749 0.6252845  0.60128285 0.57872956\n",
      " 0.62197393 0.61887023 0.61721499 0.6110076  0.58783361 0.57707428\n",
      " 0.54252017 0.5723153  0.56176288 0.53093314 0.55348642 0.51603557\n",
      " 0.47982618 0.44713427 0.45023793 0.4862404  0.47548107 0.47713636\n",
      " 0.46823919 0.50610386 0.52389817 0.51603557 0.52658803 0.51065589\n",
      " 0.52700186 0.51748394 0.52638111 0.52265671 0.52555349 0.53817502\n",
      " 0.51955306 0.51334575 0.51542532 0.51915669 0.52197981 0.52403432\n",
      " 0.52549106 0.52651566 0.52724868 0.52779913 0.52824414 0.52863467\n",
      " 0.529001   0.52935863 0.52971429 0.53006876 0.53042018 0.53076637\n",
      " 0.53110498 0.53143418 0.53175288 0.53206098]\n",
      "20 day output [[0.53235865]]\n",
      "21 day input [0.60976619 0.60004135 0.61266293 0.59611008 0.59073039 0.60024831\n",
      " 0.5894889  0.56217668 0.54479616 0.56362505 0.58679907 0.58079864\n",
      " 0.59259259 0.5913511  0.58783361 0.58328159 0.59900682 0.62776741\n",
      " 0.60190355 0.59611008 0.614732   0.61535279 0.6308711  0.64121664\n",
      " 0.64514792 0.63852678 0.64887232 0.63397471 0.64473409 0.63914749\n",
      " 0.60997306 0.58700599 0.5950755  0.59197184 0.61162839 0.61307676\n",
      " 0.63356088 0.62611216 0.63149181 0.62011173 0.61990477 0.61369746\n",
      " 0.61762882 0.63914749 0.6252845  0.60128285 0.57872956 0.62197393\n",
      " 0.61887023 0.61721499 0.6110076  0.58783361 0.57707428 0.54252017\n",
      " 0.5723153  0.56176288 0.53093314 0.55348642 0.51603557 0.47982618\n",
      " 0.44713427 0.45023793 0.4862404  0.47548107 0.47713636 0.46823919\n",
      " 0.50610386 0.52389817 0.51603557 0.52658803 0.51065589 0.52700186\n",
      " 0.51748394 0.52638111 0.52265671 0.52555349 0.53817502 0.51955306\n",
      " 0.51334575 0.51542532 0.51915669 0.52197981 0.52403432 0.52549106\n",
      " 0.52651566 0.52724868 0.52779913 0.52824414 0.52863467 0.529001\n",
      " 0.52935863 0.52971429 0.53006876 0.53042018 0.53076637 0.53110498\n",
      " 0.53143418 0.53175288 0.53206098 0.53235865]\n",
      "21 day output [[0.5326463]]\n",
      "22 day input [0.60004135 0.61266293 0.59611008 0.59073039 0.60024831 0.5894889\n",
      " 0.56217668 0.54479616 0.56362505 0.58679907 0.58079864 0.59259259\n",
      " 0.5913511  0.58783361 0.58328159 0.59900682 0.62776741 0.60190355\n",
      " 0.59611008 0.614732   0.61535279 0.6308711  0.64121664 0.64514792\n",
      " 0.63852678 0.64887232 0.63397471 0.64473409 0.63914749 0.60997306\n",
      " 0.58700599 0.5950755  0.59197184 0.61162839 0.61307676 0.63356088\n",
      " 0.62611216 0.63149181 0.62011173 0.61990477 0.61369746 0.61762882\n",
      " 0.63914749 0.6252845  0.60128285 0.57872956 0.62197393 0.61887023\n",
      " 0.61721499 0.6110076  0.58783361 0.57707428 0.54252017 0.5723153\n",
      " 0.56176288 0.53093314 0.55348642 0.51603557 0.47982618 0.44713427\n",
      " 0.45023793 0.4862404  0.47548107 0.47713636 0.46823919 0.50610386\n",
      " 0.52389817 0.51603557 0.52658803 0.51065589 0.52700186 0.51748394\n",
      " 0.52638111 0.52265671 0.52555349 0.53817502 0.51955306 0.51334575\n",
      " 0.51542532 0.51915669 0.52197981 0.52403432 0.52549106 0.52651566\n",
      " 0.52724868 0.52779913 0.52824414 0.52863467 0.529001   0.52935863\n",
      " 0.52971429 0.53006876 0.53042018 0.53076637 0.53110498 0.53143418\n",
      " 0.53175288 0.53206098 0.53235865 0.5326463 ]\n",
      "22 day output [[0.5329249]]\n",
      "23 day input [0.61266293 0.59611008 0.59073039 0.60024831 0.5894889  0.56217668\n",
      " 0.54479616 0.56362505 0.58679907 0.58079864 0.59259259 0.5913511\n",
      " 0.58783361 0.58328159 0.59900682 0.62776741 0.60190355 0.59611008\n",
      " 0.614732   0.61535279 0.6308711  0.64121664 0.64514792 0.63852678\n",
      " 0.64887232 0.63397471 0.64473409 0.63914749 0.60997306 0.58700599\n",
      " 0.5950755  0.59197184 0.61162839 0.61307676 0.63356088 0.62611216\n",
      " 0.63149181 0.62011173 0.61990477 0.61369746 0.61762882 0.63914749\n",
      " 0.6252845  0.60128285 0.57872956 0.62197393 0.61887023 0.61721499\n",
      " 0.6110076  0.58783361 0.57707428 0.54252017 0.5723153  0.56176288\n",
      " 0.53093314 0.55348642 0.51603557 0.47982618 0.44713427 0.45023793\n",
      " 0.4862404  0.47548107 0.47713636 0.46823919 0.50610386 0.52389817\n",
      " 0.51603557 0.52658803 0.51065589 0.52700186 0.51748394 0.52638111\n",
      " 0.52265671 0.52555349 0.53817502 0.51955306 0.51334575 0.51542532\n",
      " 0.51915669 0.52197981 0.52403432 0.52549106 0.52651566 0.52724868\n",
      " 0.52779913 0.52824414 0.52863467 0.529001   0.52935863 0.52971429\n",
      " 0.53006876 0.53042018 0.53076637 0.53110498 0.53143418 0.53175288\n",
      " 0.53206098 0.53235865 0.5326463  0.53292489]\n",
      "23 day output [[0.53319496]]\n",
      "24 day input [0.59611008 0.59073039 0.60024831 0.5894889  0.56217668 0.54479616\n",
      " 0.56362505 0.58679907 0.58079864 0.59259259 0.5913511  0.58783361\n",
      " 0.58328159 0.59900682 0.62776741 0.60190355 0.59611008 0.614732\n",
      " 0.61535279 0.6308711  0.64121664 0.64514792 0.63852678 0.64887232\n",
      " 0.63397471 0.64473409 0.63914749 0.60997306 0.58700599 0.5950755\n",
      " 0.59197184 0.61162839 0.61307676 0.63356088 0.62611216 0.63149181\n",
      " 0.62011173 0.61990477 0.61369746 0.61762882 0.63914749 0.6252845\n",
      " 0.60128285 0.57872956 0.62197393 0.61887023 0.61721499 0.6110076\n",
      " 0.58783361 0.57707428 0.54252017 0.5723153  0.56176288 0.53093314\n",
      " 0.55348642 0.51603557 0.47982618 0.44713427 0.45023793 0.4862404\n",
      " 0.47548107 0.47713636 0.46823919 0.50610386 0.52389817 0.51603557\n",
      " 0.52658803 0.51065589 0.52700186 0.51748394 0.52638111 0.52265671\n",
      " 0.52555349 0.53817502 0.51955306 0.51334575 0.51542532 0.51915669\n",
      " 0.52197981 0.52403432 0.52549106 0.52651566 0.52724868 0.52779913\n",
      " 0.52824414 0.52863467 0.529001   0.52935863 0.52971429 0.53006876\n",
      " 0.53042018 0.53076637 0.53110498 0.53143418 0.53175288 0.53206098\n",
      " 0.53235865 0.5326463  0.53292489 0.53319496]\n",
      "24 day output [[0.5334579]]\n",
      "25 day input [0.59073039 0.60024831 0.5894889  0.56217668 0.54479616 0.56362505\n",
      " 0.58679907 0.58079864 0.59259259 0.5913511  0.58783361 0.58328159\n",
      " 0.59900682 0.62776741 0.60190355 0.59611008 0.614732   0.61535279\n",
      " 0.6308711  0.64121664 0.64514792 0.63852678 0.64887232 0.63397471\n",
      " 0.64473409 0.63914749 0.60997306 0.58700599 0.5950755  0.59197184\n",
      " 0.61162839 0.61307676 0.63356088 0.62611216 0.63149181 0.62011173\n",
      " 0.61990477 0.61369746 0.61762882 0.63914749 0.6252845  0.60128285\n",
      " 0.57872956 0.62197393 0.61887023 0.61721499 0.6110076  0.58783361\n",
      " 0.57707428 0.54252017 0.5723153  0.56176288 0.53093314 0.55348642\n",
      " 0.51603557 0.47982618 0.44713427 0.45023793 0.4862404  0.47548107\n",
      " 0.47713636 0.46823919 0.50610386 0.52389817 0.51603557 0.52658803\n",
      " 0.51065589 0.52700186 0.51748394 0.52638111 0.52265671 0.52555349\n",
      " 0.53817502 0.51955306 0.51334575 0.51542532 0.51915669 0.52197981\n",
      " 0.52403432 0.52549106 0.52651566 0.52724868 0.52779913 0.52824414\n",
      " 0.52863467 0.529001   0.52935863 0.52971429 0.53006876 0.53042018\n",
      " 0.53076637 0.53110498 0.53143418 0.53175288 0.53206098 0.53235865\n",
      " 0.5326463  0.53292489 0.53319496 0.53345788]\n",
      "25 day output [[0.53371406]]\n",
      "26 day input [0.60024831 0.5894889  0.56217668 0.54479616 0.56362505 0.58679907\n",
      " 0.58079864 0.59259259 0.5913511  0.58783361 0.58328159 0.59900682\n",
      " 0.62776741 0.60190355 0.59611008 0.614732   0.61535279 0.6308711\n",
      " 0.64121664 0.64514792 0.63852678 0.64887232 0.63397471 0.64473409\n",
      " 0.63914749 0.60997306 0.58700599 0.5950755  0.59197184 0.61162839\n",
      " 0.61307676 0.63356088 0.62611216 0.63149181 0.62011173 0.61990477\n",
      " 0.61369746 0.61762882 0.63914749 0.6252845  0.60128285 0.57872956\n",
      " 0.62197393 0.61887023 0.61721499 0.6110076  0.58783361 0.57707428\n",
      " 0.54252017 0.5723153  0.56176288 0.53093314 0.55348642 0.51603557\n",
      " 0.47982618 0.44713427 0.45023793 0.4862404  0.47548107 0.47713636\n",
      " 0.46823919 0.50610386 0.52389817 0.51603557 0.52658803 0.51065589\n",
      " 0.52700186 0.51748394 0.52638111 0.52265671 0.52555349 0.53817502\n",
      " 0.51955306 0.51334575 0.51542532 0.51915669 0.52197981 0.52403432\n",
      " 0.52549106 0.52651566 0.52724868 0.52779913 0.52824414 0.52863467\n",
      " 0.529001   0.52935863 0.52971429 0.53006876 0.53042018 0.53076637\n",
      " 0.53110498 0.53143418 0.53175288 0.53206098 0.53235865 0.5326463\n",
      " 0.53292489 0.53319496 0.53345788 0.53371406]\n"
     ]
    },
    {
     "name": "stdout",
     "output_type": "stream",
     "text": [
      "26 day output [[0.53396446]]\n",
      "27 day input [0.5894889  0.56217668 0.54479616 0.56362505 0.58679907 0.58079864\n",
      " 0.59259259 0.5913511  0.58783361 0.58328159 0.59900682 0.62776741\n",
      " 0.60190355 0.59611008 0.614732   0.61535279 0.6308711  0.64121664\n",
      " 0.64514792 0.63852678 0.64887232 0.63397471 0.64473409 0.63914749\n",
      " 0.60997306 0.58700599 0.5950755  0.59197184 0.61162839 0.61307676\n",
      " 0.63356088 0.62611216 0.63149181 0.62011173 0.61990477 0.61369746\n",
      " 0.61762882 0.63914749 0.6252845  0.60128285 0.57872956 0.62197393\n",
      " 0.61887023 0.61721499 0.6110076  0.58783361 0.57707428 0.54252017\n",
      " 0.5723153  0.56176288 0.53093314 0.55348642 0.51603557 0.47982618\n",
      " 0.44713427 0.45023793 0.4862404  0.47548107 0.47713636 0.46823919\n",
      " 0.50610386 0.52389817 0.51603557 0.52658803 0.51065589 0.52700186\n",
      " 0.51748394 0.52638111 0.52265671 0.52555349 0.53817502 0.51955306\n",
      " 0.51334575 0.51542532 0.51915669 0.52197981 0.52403432 0.52549106\n",
      " 0.52651566 0.52724868 0.52779913 0.52824414 0.52863467 0.529001\n",
      " 0.52935863 0.52971429 0.53006876 0.53042018 0.53076637 0.53110498\n",
      " 0.53143418 0.53175288 0.53206098 0.53235865 0.5326463  0.53292489\n",
      " 0.53319496 0.53345788 0.53371406 0.53396446]\n",
      "27 day output [[0.53420967]]\n",
      "28 day input [0.56217668 0.54479616 0.56362505 0.58679907 0.58079864 0.59259259\n",
      " 0.5913511  0.58783361 0.58328159 0.59900682 0.62776741 0.60190355\n",
      " 0.59611008 0.614732   0.61535279 0.6308711  0.64121664 0.64514792\n",
      " 0.63852678 0.64887232 0.63397471 0.64473409 0.63914749 0.60997306\n",
      " 0.58700599 0.5950755  0.59197184 0.61162839 0.61307676 0.63356088\n",
      " 0.62611216 0.63149181 0.62011173 0.61990477 0.61369746 0.61762882\n",
      " 0.63914749 0.6252845  0.60128285 0.57872956 0.62197393 0.61887023\n",
      " 0.61721499 0.6110076  0.58783361 0.57707428 0.54252017 0.5723153\n",
      " 0.56176288 0.53093314 0.55348642 0.51603557 0.47982618 0.44713427\n",
      " 0.45023793 0.4862404  0.47548107 0.47713636 0.46823919 0.50610386\n",
      " 0.52389817 0.51603557 0.52658803 0.51065589 0.52700186 0.51748394\n",
      " 0.52638111 0.52265671 0.52555349 0.53817502 0.51955306 0.51334575\n",
      " 0.51542532 0.51915669 0.52197981 0.52403432 0.52549106 0.52651566\n",
      " 0.52724868 0.52779913 0.52824414 0.52863467 0.529001   0.52935863\n",
      " 0.52971429 0.53006876 0.53042018 0.53076637 0.53110498 0.53143418\n",
      " 0.53175288 0.53206098 0.53235865 0.5326463  0.53292489 0.53319496\n",
      " 0.53345788 0.53371406 0.53396446 0.53420967]\n",
      "28 day output [[0.5344502]]\n",
      "29 day input [0.54479616 0.56362505 0.58679907 0.58079864 0.59259259 0.5913511\n",
      " 0.58783361 0.58328159 0.59900682 0.62776741 0.60190355 0.59611008\n",
      " 0.614732   0.61535279 0.6308711  0.64121664 0.64514792 0.63852678\n",
      " 0.64887232 0.63397471 0.64473409 0.63914749 0.60997306 0.58700599\n",
      " 0.5950755  0.59197184 0.61162839 0.61307676 0.63356088 0.62611216\n",
      " 0.63149181 0.62011173 0.61990477 0.61369746 0.61762882 0.63914749\n",
      " 0.6252845  0.60128285 0.57872956 0.62197393 0.61887023 0.61721499\n",
      " 0.6110076  0.58783361 0.57707428 0.54252017 0.5723153  0.56176288\n",
      " 0.53093314 0.55348642 0.51603557 0.47982618 0.44713427 0.45023793\n",
      " 0.4862404  0.47548107 0.47713636 0.46823919 0.50610386 0.52389817\n",
      " 0.51603557 0.52658803 0.51065589 0.52700186 0.51748394 0.52638111\n",
      " 0.52265671 0.52555349 0.53817502 0.51955306 0.51334575 0.51542532\n",
      " 0.51915669 0.52197981 0.52403432 0.52549106 0.52651566 0.52724868\n",
      " 0.52779913 0.52824414 0.52863467 0.529001   0.52935863 0.52971429\n",
      " 0.53006876 0.53042018 0.53076637 0.53110498 0.53143418 0.53175288\n",
      " 0.53206098 0.53235865 0.5326463  0.53292489 0.53319496 0.53345788\n",
      " 0.53371406 0.53396446 0.53420967 0.53445017]\n",
      "29 day output [[0.5346867]]\n",
      "[[0.5154253244400024], [0.5191566944122314], [0.521979808807373], [0.524034321308136], [0.5254910588264465], [0.5265156626701355], [0.5272486805915833], [0.527799129486084], [0.528244137763977], [0.5286346673965454], [0.529000997543335], [0.5293586254119873], [0.5297142863273621], [0.5300687551498413], [0.530420184135437], [0.5307663679122925], [0.5311049818992615], [0.531434178352356], [0.53175288438797], [0.532060980796814], [0.5323586463928223], [0.5326462984085083], [0.5329248905181885], [0.5331949591636658], [0.53345787525177], [0.5337140560150146], [0.5339644551277161], [0.534209668636322], [0.5344501733779907], [0.5346866846084595]]\n"
     ]
    }
   ],
   "source": [
    "# demonstrate prediction for next 10 days\n",
    "from numpy import array\n",
    "\n",
    "lst_output=[]\n",
    "n_steps=100\n",
    "i=0\n",
    "while(i<30):\n",
    "    \n",
    "    if(len(temp_input)>100):\n",
    "        #print(temp_input)\n",
    "        x_input=np.array(temp_input[1:])\n",
    "        print(\"{} day input {}\".format(i,x_input))\n",
    "        x_input=x_input.reshape(1,-1)\n",
    "        x_input = x_input.reshape((1, n_steps, 1))\n",
    "        #print(x_input)\n",
    "        yhat = model.predict(x_input, verbose=0)\n",
    "        print(\"{} day output {}\".format(i,yhat))\n",
    "        temp_input.extend(yhat[0].tolist())\n",
    "        temp_input=temp_input[1:]\n",
    "        #print(temp_input)\n",
    "        lst_output.extend(yhat.tolist())\n",
    "        i=i+1\n",
    "    else:\n",
    "        x_input = x_input.reshape((1, n_steps,1))\n",
    "        yhat = model.predict(x_input, verbose=0)\n",
    "        print(yhat[0])\n",
    "        temp_input.extend(yhat[0].tolist())\n",
    "        print(len(temp_input))\n",
    "        lst_output.extend(yhat.tolist())\n",
    "        i=i+1\n",
    "    \n",
    "\n",
    "print(lst_output)"
   ]
  },
  {
   "cell_type": "code",
   "execution_count": 94,
   "metadata": {},
   "outputs": [],
   "source": [
    "day_new=np.arange(1,101)\n",
    "day_pred=np.arange(101,131)"
   ]
  },
  {
   "cell_type": "code",
   "execution_count": 95,
   "metadata": {},
   "outputs": [],
   "source": [
    "import matplotlib.pyplot as plt"
   ]
  },
  {
   "cell_type": "code",
   "execution_count": 96,
   "metadata": {},
   "outputs": [
    {
     "data": {
      "text/plain": [
       "4410"
      ]
     },
     "execution_count": 96,
     "metadata": {},
     "output_type": "execute_result"
    }
   ],
   "source": [
    "len(df1)"
   ]
  },
  {
   "cell_type": "code",
   "execution_count": 109,
   "metadata": {},
   "outputs": [
    {
     "name": "stdout",
     "output_type": "stream",
     "text": [
      "30\n"
     ]
    },
    {
     "data": {
      "image/png": "[encoded data removed]",
      "text/plain": [
       "<Figure size 1152x576 with 1 Axes>"
      ]
     },
     "metadata": {
      "needs_background": "light"
     },
     "output_type": "display_data"
    }
   ],
   "source": [
    "plt.figure(figsize=(16,8))\n",
    "plt.plot(day_new,scaler.inverse_transform(df1[len(df1)-100:]))\n",
    "plt.plot(day_pred,scaler.inverse_transform(lst_output))\n",
    "print(len(lst_output))"
   ]
  },
  {
   "cell_type": "code",
   "execution_count": 124,
   "metadata": {},
   "outputs": [
    {
     "name": "stdout",
     "output_type": "stream",
     "text": [
      "4440\n"
     ]
    },
    {
     "data": {
      "text/plain": [
       "[<matplotlib.lines.Line2D at 0x7f5699e43af0>]"
      ]
     },
     "execution_count": 124,
     "metadata": {},
     "output_type": "execute_result"
    },
    {
     "data": {
      "image/png": "[encoded data removed]",
      "text/plain": [
       "<Figure size 1152x576 with 1 Axes>"
      ]
     },
     "metadata": {
      "needs_background": "light"
     },
     "output_type": "display_data"
    }
   ],
   "source": [
    "plt.figure(figsize=(16,8))\n",
    "df3=df1.tolist()\n",
    "df3.extend(lst_output)\n",
    "print(len(df3))\n",
    "plt.plot(df3[4300:])\n",
    "#print(df3[:len(df1)])\n",
    "#print(\"--------------------------------------------------\")\n",
    "#print(df3[len(df1):])\n",
    "#plt.plot(lst_output, color=\"green\")\n",
    "#plt.plot(df['Date'], df3[:len(df1)], color=\"blue\")\n",
    "#plt.plot(df3[len(df1):], color=\"red\")"
   ]
  },
  {
   "cell_type": "code",
   "execution_count": 125,
   "metadata": {},
   "outputs": [],
   "source": [
    "df3=scaler.inverse_transform(df3).tolist()"
   ]
  },
  {
   "cell_type": "code",
   "execution_count": 127,
   "metadata": {},
   "outputs": [
    {
     "data": {
      "text/plain": [
       "[<matplotlib.lines.Line2D at 0x7f5699a18340>]"
      ]
     },
     "execution_count": 127,
     "metadata": {},
     "output_type": "execute_result"
    },
    {
     "data": {
      "image/png": "[encoded data removed]",
      "text/plain": [
       "<Figure size 1152x576 with 1 Axes>"
      ]
     },
     "metadata": {
      "needs_background": "light"
     },
     "output_type": "display_data"
    }
   ],
   "source": [
    "plt.figure(figsize=(16,8))\n",
    "plt.plot(df3)"
   ]
  },
  {
   "cell_type": "code",
   "execution_count": null,
   "metadata": {},
   "outputs": [],
   "source": []
  }
 ],
 "metadata": {
  "kernelspec": {
   "display_name": "Python 3 (ipykernel)",
   "language": "python",
   "name": "python3"
  },
  "language_info": {
   "codemirror_mode": {
    "name": "ipython",
    "version": 3
   },
   "file_extension": ".py",
   "mimetype": "text/x-python",
   "name": "python",
   "nbconvert_exporter": "python",
   "pygments_lexer": "ipython3",
   "version": "3.9.7"
  }
 },
 "nbformat": 4,
 "nbformat_minor": 2
}
